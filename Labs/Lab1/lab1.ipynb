{
 "cells": [
  {
   "cell_type": "markdown",
   "metadata": {},
   "source": [
    "# Practical session 1 - Some Python basics\n",
    "\n",
    "Students (pair):\n",
    "- [Student 1]([link](https://github.com/username1))\n",
    "- [Student 2]([link](https://github.com/username2))"
   ]
  },
  {
   "cell_type": "markdown",
   "metadata": {},
   "source": [
    "```\n",
    "conda create --name=lab1 --file=requirement.txt \n",
    "conda activate lab1\n",
    "# do not forget to deactivate the environment if needed\n",
    "# you can remove the environment once you are done\n",
    "conda env remove --name=lab1\n",
    "```"
   ]
  },
  {
   "cell_type": "code",
   "execution_count": null,
   "metadata": {},
   "outputs": [],
   "source": [
    "%load_ext autoreload\n",
    "%autoreload 2"
   ]
  },
  {
   "cell_type": "markdown",
   "metadata": {},
   "source": [
    "## Documentation\n",
    "\n",
    "To display the documentation associated to a Python function in your notebook (launched in VSCode), you can either\n",
    "- run `?functionname` or `help(my_adder)`\n",
    "- place your mouse pointer on the function name\n",
    "- write the name of the function and start opening the brackets"
   ]
  },
  {
   "cell_type": "markdown",
   "metadata": {},
   "source": [
    "## Zen of Python\n"
   ]
  },
  {
   "cell_type": "code",
   "execution_count": null,
   "metadata": {},
   "outputs": [],
   "source": [
    "import this"
   ]
  },
  {
   "cell_type": "markdown",
   "metadata": {},
   "source": [
    "## Reserved keywords\n"
   ]
  },
  {
   "cell_type": "code",
   "execution_count": null,
   "metadata": {},
   "outputs": [],
   "source": [
    "import keyword\n",
    "print(keyword.kwlist)"
   ]
  },
  {
   "cell_type": "markdown",
   "metadata": {},
   "source": [
    "## Arithmetic"
   ]
  },
  {
   "cell_type": "markdown",
   "metadata": {},
   "source": [
    "Compute 4 raised to the power 8"
   ]
  },
  {
   "cell_type": "markdown",
   "metadata": {},
   "source": [
    "Compute the quotient and the remainder of the euclidean division of 17 by 3. "
   ]
  },
  {
   "cell_type": "markdown",
   "metadata": {},
   "source": [
    "Create two integer variables `a, b` of your choice and swap their content."
   ]
  },
  {
   "cell_type": "markdown",
   "metadata": {},
   "source": [
    "Modify `a` inplace, so that the new value of `a` is twice its previous value."
   ]
  },
  {
   "cell_type": "markdown",
   "metadata": {},
   "source": [
    "Define a complex number `z` object and print it as\n",
    "\n",
    "`(real=z.real, imag=z.imaginary)`"
   ]
  },
  {
   "cell_type": "markdown",
   "metadata": {},
   "source": [
    "## Strings\n"
   ]
  },
  {
   "cell_type": "markdown",
   "metadata": {},
   "source": [
    "Propose two ways to define an empty string"
   ]
  },
  {
   "cell_type": "markdown",
   "metadata": {},
   "source": [
    "Define a string made of the 26 letters of the alphabet (lower case), then\n",
    "- What is the 12th letter of the alphabet\n",
    "- What are the 10 last letters of the alphabet\n",
    "- What are the 5th to the 10th letters of the alphabet\n",
    "- Create a new string where the 26 letters are converted to upper case."
   ]
  },
  {
   "cell_type": "markdown",
   "metadata": {},
   "source": [
    "Extract the first 4 digits of the number `x = 2341324530045968` (answer is `2341`)."
   ]
  },
  {
   "cell_type": "markdown",
   "metadata": {},
   "source": [
    "## Lists"
   ]
  },
  {
   "cell_type": "markdown",
   "metadata": {},
   "source": [
    "Propose two ways to define an empty list."
   ]
  },
  {
   "cell_type": "markdown",
   "metadata": {},
   "source": [
    "Create the list of consecutive integers from 5 to 11."
   ]
  },
  {
   "cell_type": "markdown",
   "metadata": {},
   "source": [
    "Add `100` to this list."
   ]
  },
  {
   "cell_type": "markdown",
   "metadata": {},
   "source": [
    "Given the following list, \n",
    "Change the `\"sdia\"` to its reverse (`\"aids\"`)."
   ]
  },
  {
   "cell_type": "code",
   "execution_count": null,
   "metadata": {},
   "outputs": [],
   "source": [
    "x = [10, [3, 4], [5, [100, 200, [\"sdia\"]], 23, 11], 1, 7]"
   ]
  },
  {
   "cell_type": "markdown",
   "metadata": {},
   "source": [
    "Given the following list, \n",
    "\n",
    "  1. extract the first two items\n",
    "  2. extract the last two items\n",
    "  3. find the index of the first occurence of `9`\n",
    "  4. extract the items located at odd indices\n",
    "  5. create a new list which corresponds to the reversed version of the originial list\n",
    "  6. create a new list where each item of the original list is raised to the power 3"
   ]
  },
  {
   "cell_type": "code",
   "execution_count": null,
   "metadata": {},
   "outputs": [],
   "source": [
    "x = [3, 7, 5, 3, 8, 6, 8, 8, 0, 7, 3, 9, 3, 4, 2, 7, 0, 9, 5, 0, 0, 9, 0, 9, 3, 1, 4, 0, 5, 5, 5, 8, 9, 9, 5, 5, 4, 9, 5, 6, 2, 8, 5, 2, 4, 9, 2, 2, 3, 1]\n"
   ]
  },
  {
   "cell_type": "markdown",
   "metadata": {},
   "source": [
    "## Tuples"
   ]
  },
  {
   "cell_type": "markdown",
   "metadata": {},
   "source": [
    "\n",
    "Propose two ways to define an empty tuple."
   ]
  },
  {
   "cell_type": "code",
   "execution_count": null,
   "metadata": {},
   "outputs": [],
   "source": [
    "empty_tupla = ()\n",
    "t = tuple()\n",
    "print(len(empty_tupla))\n",
    "print(len(t))"
   ]
  },
  {
   "cell_type": "markdown",
   "metadata": {},
   "source": [
    "Given the following tuple\n",
    "- try to replace the second item (`4`) to `8`.\n",
    "- modify the list so that the second element of the first item is raised to the power 5 "
   ]
  },
  {
   "cell_type": "markdown",
   "metadata": {},
   "source": [
    "x = ([1, 2, 3], 4)"
   ]
  },
  {
   "cell_type": "code",
   "execution_count": 3,
   "metadata": {},
   "outputs": [
    {
     "name": "stdout",
     "output_type": "stream",
     "text": [
      "1024\n"
     ]
    }
   ],
   "source": [
    "x = ([1, 2, 3], 4)\n",
    "\n",
    "#1\n",
    "#x[1] = 8 # TypeError: 'tuple' object does not support item assignment\n",
    "\n",
    "#2\n",
    "y = list(x)\n",
    "y[1] = pow(y[1], 5)\n",
    "x1 = tuple(y)\n",
    "print(x1[1])"
   ]
  },
  {
   "cell_type": "markdown",
   "metadata": {},
   "source": [
    "What is the main difference between a list and a tuple?"
   ]
  },
  {
   "cell_type": "markdown",
   "metadata": {},
   "source": [
    "Once a tuple is created, you cannot change its values. Tuples are unchangeable, but there is a workaround. You can convert the tuple into a list, change the list, and convert the list back into a tuple.\n",
    "So the main difference between a list and a tuple is the property of changeability."
   ]
  },
  {
   "cell_type": "markdown",
   "metadata": {},
   "source": [
    "## Sets"
   ]
  },
  {
   "cell_type": "markdown",
   "metadata": {},
   "source": [
    "Create an empty set"
   ]
  },
  {
   "cell_type": "code",
   "execution_count": 3,
   "metadata": {},
   "outputs": [
    {
     "name": "stdout",
     "output_type": "stream",
     "text": [
      "<class 'set'>\n",
      "0\n"
     ]
    }
   ],
   "source": [
    "empty_set = set()\n",
    "print(type(empty_set))\n",
    "print(len(empty_set))"
   ]
  },
  {
   "cell_type": "markdown",
   "metadata": {},
   "source": [
    "Compute the intersection between $A = \\{1, 2, 3\\}$ and $B = \\{2, 4, 5, 6\\}$."
   ]
  },
  {
   "cell_type": "code",
   "execution_count": 19,
   "metadata": {},
   "outputs": [
    {
     "name": "stdout",
     "output_type": "stream",
     "text": [
      "{2}\n"
     ]
    }
   ],
   "source": [
    "a = {1,2,3}\n",
    "b = {2,4,5,6}\n",
    "\n",
    "z = a.intersection(b)\n",
    "print(z)"
   ]
  },
  {
   "cell_type": "markdown",
   "metadata": {},
   "source": [
    "From the following set\n",
    "- add the numbers 4, 5, 6\n",
    "- remove the numbers 1, 2, 3\n",
    "- check if the resulting set is contained in `{1, 2, 4, 5, 6, 10}` "
   ]
  },
  {
   "cell_type": "code",
   "execution_count": 10,
   "metadata": {},
   "outputs": [
    {
     "name": "stdout",
     "output_type": "stream",
     "text": [
      "{0, 1, 2, 3, 4, 5, 6, 7, 8, 9, 10}\n",
      "{0, 4, 5, 6, 7, 8, 9, 10}\n",
      "False\n"
     ]
    }
   ],
   "source": [
    "x = {0, 1, 2, 3, 6, 7, 8, 9, 10}\n",
    "\n",
    "x.add(4)\n",
    "x.add(5)\n",
    "x.add(6)\n",
    "print(x)\n",
    "x.remove(1)\n",
    "x.remove(2)\n",
    "x.remove(3)\n",
    "print(x)\n",
    "print( x.issubset({1, 2, 4, 5, 6, 10}) )\n"
   ]
  },
  {
   "cell_type": "markdown",
   "metadata": {},
   "source": [
    "## Dictionnaries"
   ]
  },
  {
   "cell_type": "markdown",
   "metadata": {},
   "source": [
    "Propose two ways to define an empty dictionary"
   ]
  },
  {
   "cell_type": "code",
   "execution_count": 20,
   "metadata": {},
   "outputs": [
    {
     "name": "stdout",
     "output_type": "stream",
     "text": [
      "<class 'dict'>\n",
      "<class 'dict'>\n"
     ]
    }
   ],
   "source": [
    "empty_d1 = {}\n",
    "empty_d2 = dict()\n",
    "\n",
    "print(type(empty_d1))\n",
    "print(type(empty_d2))"
   ]
  },
  {
   "cell_type": "markdown",
   "metadata": {},
   "source": [
    "Propose at least 3 ways to define a dictionary with \n",
    "- keys `(\"a\", \"b\", \"c\", \"d\")`\n",
    "- values `(1, 3, 5 , 7)`"
   ]
  },
  {
   "cell_type": "code",
   "execution_count": 26,
   "metadata": {},
   "outputs": [
    {
     "name": "stdout",
     "output_type": "stream",
     "text": [
      "{'a': 1, 'b': 3, 'c': 5, 'd': 7}\n",
      "{'a': 1, 'b': 3, 'c': 5, 'd': 7}\n",
      "{'a': 1, 'b': 3, 'c': 5, 'd': 7}\n"
     ]
    }
   ],
   "source": [
    "d1 = {\"a\":1, \"b\":3, \"c\":5, \"d\":7}\n",
    "print(d1)\n",
    "d2 = dict(a=1, b=3, c=5, d=7)\n",
    "print(d2)\n",
    "d3 = dict([(\"a\", 1), (\"b\", 3), (\"c\", 5), (\"d\", 7)])\n",
    "print(d3)"
   ]
  },
  {
   "cell_type": "markdown",
   "metadata": {},
   "source": [
    "Given the following dictionary, use indexing to get to the word `\"sdia\"`"
   ]
  },
  {
   "cell_type": "code",
   "execution_count": 29,
   "metadata": {},
   "outputs": [
    {
     "name": "stdout",
     "output_type": "stream",
     "text": [
      "sdia\n"
     ]
    }
   ],
   "source": [
    "d = {\n",
    "    \"outer\": [\n",
    "        1,\n",
    "        2,\n",
    "        3,\n",
    "        {\"inner\": [\"this\", \"is\", \"inception\", {\"inner_inner\": [1, 2, 3, \"sdia\"]}]},\n",
    "    ]\n",
    "}\n",
    "\n",
    "print( d.get(\"outer\")[3].get(\"inner\")[3].get(\"inner_inner\")[3] )"
   ]
  },
  {
   "cell_type": "markdown",
   "metadata": {},
   "source": [
    "From the following dictionary,\n",
    "- Create the list of keys\n",
    "- Create the list of values\n",
    "- Check if the key `\"abc\"` is present, if not, return `123`.\n",
    "- Merge the initial dictionary with `{\"e\": -1, 4: True}`"
   ]
  },
  {
   "cell_type": "code",
   "execution_count": 31,
   "metadata": {},
   "outputs": [
    {
     "name": "stdout",
     "output_type": "stream",
     "text": [
      "dict_keys([(0, 1), 'e', 1, None])\n",
      "dict_values(['abc', 4, None, (1+2j)])\n",
      "{(0, 1): 'abc', 'e': -1, 1: None, None: (1+2j), 4: True}\n"
     ]
    }
   ],
   "source": [
    "d1 = dict(zip([(0, 1), \"e\", 1, None], [\"abc\", 4, None, 1 + 2j]))\n",
    "\n",
    "k = d1.keys(); print(k)\n",
    "v = d1.values(); print(v)\n",
    "if \"abc\" in d1:\n",
    "    print(123)\n",
    "d1.update({\"e\": -1, 4: True}); print(d1)"
   ]
  },
  {
   "cell_type": "markdown",
   "metadata": {},
   "source": [
    "## Conditions"
   ]
  },
  {
   "cell_type": "markdown",
   "metadata": {},
   "source": [
    "Propose two ways to construct the list of odd values ranging from 0 to 30"
   ]
  },
  {
   "cell_type": "code",
   "execution_count": 36,
   "metadata": {},
   "outputs": [
    {
     "name": "stdout",
     "output_type": "stream",
     "text": [
      "[1, 3, 5, 7, 9, 11, 13, 15, 17, 19, 21, 23, 25, 27, 29]\n",
      "[29, 27, 25, 23, 21, 19, 17, 15, 13, 11, 9, 7, 5, 3, 1]\n"
     ]
    }
   ],
   "source": [
    "l1 = list()\n",
    "for n in range(1,30,2):\n",
    "    l1.append(n)\n",
    "print(l1)\n",
    "\n",
    "l2 = list()\n",
    "while n > 0:\n",
    "    if(n%2 == 1):\n",
    "        l2.append(n)\n",
    "    n = n - 1\n",
    "print(l2)"
   ]
  },
  {
   "cell_type": "markdown",
   "metadata": {},
   "source": [
    "From the following list, create another list which contains\n",
    "- `\"fiz\"` if the item is a multiple of 5,\n",
    "- `\"buz\"` if the item is a multiple of 7,\n",
    "- `\"fizbuz\"` if the item is a both a multiple of 5 and 7,\n",
    "- the index of the item otherwise."
   ]
  },
  {
   "cell_type": "code",
   "execution_count": 38,
   "metadata": {},
   "outputs": [
    {
     "name": "stdout",
     "output_type": "stream",
     "text": [
      "[0, 1, 2, 3, 'buzfiz', 'fiz', 'buzfiz', 7, 8, 'buz']\n"
     ]
    }
   ],
   "source": [
    "x = [2, 1, 3, 31, 35, 20, 70, 132, 144, 49]\n",
    "\n",
    "l = list()\n",
    "c = 0\n",
    "for e in x:\n",
    "    if(e%5 == 0 and e%7 == 0):\n",
    "        l.append(\"buzfiz\")\n",
    "    elif(e%5 == 0): l.append(\"fiz\")\n",
    "    elif(e%7 == 0): l.append(\"buz\")\n",
    "    else: l.append(c)\n",
    "    c = c+1\n",
    "print(l)\n"
   ]
  },
  {
   "cell_type": "markdown",
   "metadata": {},
   "source": [
    "Given a string variable `course`, construct a `if/elif/else` statement that prints:\n",
    "- `\"That is very useful!\"` if `course` is `\"maths\"` (any kind of capitalization)\n",
    "- `\"That is very useful!\"` if `course` is `\"python\"` (any kind of capitalization)\n",
    "- `\"How nice!\"` if `course` is `\"meditation\"` (any kind of capitalization)\n",
    "- `\"You're not at Hogwarts\"` if `course` is `\"magic\"` (any kind of capitalization)\n",
    "- otherwise `\"What is this COURSE?\"` if `course` is anything else."
   ]
  },
  {
   "cell_type": "code",
   "execution_count": 42,
   "metadata": {},
   "outputs": [
    {
     "name": "stdout",
     "output_type": "stream",
     "text": [
      "What is this COURSE?\n"
     ]
    }
   ],
   "source": [
    "course = \"mAGiC\"\n",
    "course_lower = course.lower()\n",
    "\n",
    "if(course_lower == \"maths\"): print(\"That is very useful!\")\n",
    "elif(course_lower == \"python\"): print(\"That is very useful!\")\n",
    "elif(course_lower == \"meditation\"): print(\"How nice!\")\n",
    "elif(course_lower == \"magic\"): print(\"You're not at Hogwarts\")\n",
    "else: print(\"What is this COURSE?\")"
   ]
  },
  {
   "cell_type": "markdown",
   "metadata": {},
   "source": [
    "Given the following variables, create and print the string\n",
    "\n",
    "``quantity`` ``fruit``(s) cost(s) $``price``\n",
    "\n",
    "such that\n",
    "- there is an `\"s\"` at `\"cost\"` when there is more only one fruit,\n",
    "- there is an `\"s\"` at `\"fruit\"` when there is more that one fruit,\n",
    "- the price is displayed as ...,xxx,xxx.yy where yy corresponds rounded cents value"
   ]
  },
  {
   "cell_type": "code",
   "execution_count": 58,
   "metadata": {},
   "outputs": [
    {
     "name": "stdout",
     "output_type": "stream",
     "text": [
      "2 avocados costs 18,912.39\n"
     ]
    }
   ],
   "source": [
    "quantity = 2\n",
    "fruit = \"avocado\"\n",
    "price = 1.8912392e4\n",
    "\n",
    "str = \"{}\".format(quantity)+\" \"+\"{}\".format(fruit)\n",
    "str_suffix = \"s costs \" if quantity > 1 else \" cost \"\n",
    "str = str + str_suffix\n",
    "print(str+\"{:,.2f}\".format(price))"
   ]
  },
  {
   "cell_type": "markdown",
   "metadata": {},
   "source": [
    "## Functions"
   ]
  },
  {
   "cell_type": "markdown",
   "metadata": {},
   "source": [
    "Define the function `is_unique(x)` which takes a list of integers `x` as input and returns `True` if the there is no duplicate items otherwise return `False`."
   ]
  },
  {
   "cell_type": "code",
   "execution_count": 1,
   "metadata": {},
   "outputs": [
    {
     "name": "stdout",
     "output_type": "stream",
     "text": [
      "True\n"
     ]
    }
   ],
   "source": [
    "def is_unique(x):\n",
    "    s = set(x)\n",
    "    if(len(x) == len(s)):\n",
    "        return True\n",
    "    else: \n",
    "        return False\n",
    "\n",
    "print(is_unique([1,2,3]))"
   ]
  },
  {
   "cell_type": "markdown",
   "metadata": {},
   "source": [
    "Define a function `triangle_shape(height)`, that returns \n",
    "- `\"\"` if `height=0`, \n",
    "- otherwise it returns a string that forms a triangle with height prescribed by `height`.\n",
    "\n",
    "**Examples**\n",
    "\n",
    "height=1\n",
    "```\n",
    "x\n",
    "```\n",
    "\n",
    "height=2\n",
    "```\n",
    " x \n",
    "xxx\n",
    "```\n",
    "\n",
    "height=3\n",
    "```\n",
    "  x  \n",
    " xxx \n",
    "xxxxx\n",
    "```\n",
    "\n",
    "height=4\n",
    "```\n",
    "   x   \n",
    "  xxx  \n",
    " xxxxx \n",
    "xxxxxxx\n",
    "```\n",
    "\n",
    "height=5\n",
    "```\n",
    "    x    \n",
    "   xxx   \n",
    "  xxxxx  \n",
    " xxxxxxx \n",
    "xxxxxxxxx\n",
    "```\n",
    "\n",
    "height=6\n",
    "```\n",
    "     x     \n",
    "    xxx    \n",
    "   xxxxx   \n",
    "  xxxxxxx  \n",
    " xxxxxxxxx \n",
    "xxxxxxxxxxx\n",
    "```"
   ]
  },
  {
   "cell_type": "code",
   "execution_count": 67,
   "metadata": {},
   "outputs": [
    {
     "name": "stdout",
     "output_type": "stream",
     "text": [
      "     x\n",
      "    xxx\n",
      "   xxxxx\n",
      "  xxxxxxx\n",
      " xxxxxxxxx\n",
      "xxxxxxxxxxx\n"
     ]
    }
   ],
   "source": [
    "def triangle_shape(height):\n",
    "    spaces = height-1\n",
    "    count_x = 1\n",
    "    for h in range(height):\n",
    "        for s in range(spaces):\n",
    "            print(\" \", end=\"\")\n",
    "        for x in range(count_x):\n",
    "            print(\"x\", end=\"\")\n",
    "        print(\"\")\n",
    "        spaces = spaces-1\n",
    "        count_x = count_x+2\n",
    "\n",
    "triangle_shape(6)"
   ]
  }
 ],
 "metadata": {
  "kernelspec": {
   "display_name": "Python 3.8.10 64-bit",
   "language": "python",
   "name": "python3"
  },
  "language_info": {
   "codemirror_mode": {
    "name": "ipython",
    "version": 3
   },
   "file_extension": ".py",
   "mimetype": "text/x-python",
   "name": "python",
   "nbconvert_exporter": "python",
   "pygments_lexer": "ipython3",
   "version": "3.10.11"
  },
  "orig_nbformat": 4,
  "vscode": {
   "interpreter": {
    "hash": "916dbcbb3f70747c44a77c7bcd40155683ae19c65e1c03b4aa3499c5328201f1"
   }
  }
 },
 "nbformat": 4,
 "nbformat_minor": 2
}
