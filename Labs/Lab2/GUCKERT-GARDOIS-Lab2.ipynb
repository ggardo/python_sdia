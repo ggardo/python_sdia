{
 "cells": [
  {
   "cell_type": "markdown",
   "metadata": {},
   "source": [
    "# Practical session 2 - Practise with classic libraries\n",
    "\n",
    "Students (pair):\n",
    "- [Mathis Guckert]([link](https://github.com/MGuckert))\n",
    "- [Gabriele Gardois]([link](https://github.com/ggardo))"
   ]
  },
  {
   "cell_type": "markdown",
   "metadata": {},
   "source": [
    "```\n",
    "conda create --name=lab2 --file=requirement.txt\n",
    "conda activate lab2\n",
    "# do not forget to deactivate the environment if needed\n",
    "# you can remove the environment once you are done\n",
    "conda env remove --name=lab2\n",
    "```"
   ]
  },
  {
   "cell_type": "markdown",
   "metadata": {},
   "source": [
    "**Useful references for this lab**:\n",
    "\n",
    "[1] `numpy`: [lecture notes (1.4.1-1.4.2)](https://scipy-lectures.org/intro/numpy/index.html) and [documentation](https://numpy.org/doc/stable/)\n",
    "\n",
    "[2] `pandas`: [documentation](https://pandas.pydata.org/docs/getting_started/index.html), [quick tutorial](https://pandas.pydata.org/pandas-docs/version/0.15/10min.html)\n",
    "\n",
    "[3] `matplotlib`: [lecture notes (1.5)](https://scipy-lectures.org/intro/matplotlib/index.html) and [documentation](https://matplotlib.org/)\n",
    "\n",
    "[4] `h5py`: [quick start guide](http://docs.h5py.org/en/stable/quick.html#quick)"
   ]
  },
  {
   "cell_type": "markdown",
   "metadata": {},
   "source": [
    "## <a name=\"content\">Contents</a>\n",
    "- [Exercise 1: Computing basic statistics](#ex1)\n",
    "- [Exercise 2: Random variables and histograms](#ex2)\n",
    "- [Exercise 3: Discrete isotropic total variation](#ex3)\n",
    "---"
   ]
  },
  {
   "cell_type": "code",
   "execution_count": 8,
   "metadata": {
    "ExecuteTime": {
     "end_time": "2023-09-28T06:02:03.452791511Z",
     "start_time": "2023-09-28T06:02:03.344155782Z"
    }
   },
   "outputs": [
    {
     "name": "stdout",
     "output_type": "stream",
     "text": [
      "The autoreload extension is already loaded. To reload it, use:\n",
      "  %reload_ext autoreload\n"
     ]
    }
   ],
   "source": [
    "%load_ext autoreload\n",
    "%autoreload 2"
   ]
  },
  {
   "cell_type": "markdown",
   "metadata": {},
   "source": [
    "---\n",
    "## <a name=\"ex1\">Exercise 1: Random variables and histograms</a>\n",
    "\n",
    "In this exercise, we are interested in generating samples from the Gamma distribution $\\mathcal{G}(\\alpha,\\beta)$, of probability density function (pdf)\n",
    "\n",
    "\\begin{equation}\n",
    "    p(x) = \\frac{\\beta^\\alpha}{\\Gamma(\\alpha)} x^{\\alpha-1} \\exp(-\\beta x) \\mathbb{1}_{\\mathbb{R}_+^*}(x),\n",
    "\\end{equation}\n",
    "\n",
    "and displaying their histogram. In the following, we consider $(\\alpha, \\beta) = (9, 2)$.\n",
    "\n",
    "1\\. Set the random seed to a fixed value for reproducibility, and biefly check your instruction works as intended.\n",
    "> Hint: you may take a look at the following pages: [random module](https://numpy.org/doc/stable/reference/random/index.html?highlight=random#module-numpy.random), [random generator](https://numpy.org/doc/stable/reference/random/generator.html)."
   ]
  },
  {
   "cell_type": "markdown",
   "metadata": {},
   "source": [
    "**Answer**:"
   ]
  },
  {
   "cell_type": "code",
   "execution_count": 9,
   "metadata": {
    "ExecuteTime": {
     "end_time": "2023-09-28T06:02:03.802490652Z",
     "start_time": "2023-09-28T06:02:03.396122608Z"
    }
   },
   "outputs": [
    {
     "name": "stdout",
     "output_type": "stream",
     "text": [
      "0.9786484002025315 0.9786484002025315\n"
     ]
    }
   ],
   "source": [
    "import numpy as np\n",
    "#We denote by rn_seed the fixed value of random seed\n",
    "rn_seed = 383948462662799 #We choose a random integer\n",
    "#We check that the seed is correctly working (the generated floats should be equal)\n",
    "rng1 = np.random.default_rng(rn_seed)\n",
    "rng2 = np.random.default_rng(rn_seed)\n",
    "\n",
    "print(rng1.random(), rng2.random())\n"
   ]
  },
  {
   "cell_type": "markdown",
   "metadata": {},
   "source": [
    "2\\. Generate $\\approx 10^5$ samples in a vector. Save the vector in a file, `samples.hdf5` or `samples.npy`.\n",
    "> Warning / hint: \n",
    "> - take a careful look at the [documentation](https://numpy.org/doc/stable/reference/random/generated/numpy.random.gamma.html?highlight=gamma#numpy.random.gamma) (multiple conventions exist for the definition of the pdf underlying the distribution...);\n",
    "> - to save data in a `npy` file, take a look at the example reported in the [Numpy documentation](https://numpy.org/doc/stable/reference/generated/numpy.save.html);\n",
    "> - to save data in a `.h5` file, take a quick look at the [documentation here](https://docs.h5py.org/en/stable/quick.html#quick)."
   ]
  },
  {
   "cell_type": "markdown",
   "metadata": {},
   "source": [
    "**Answer**:"
   ]
  },
  {
   "cell_type": "markdown",
   "source": [
    "To generate the samples, we use the generator rng1 defined before (associated wth our seed) and the gamma function from numpy.random."
   ],
   "metadata": {
    "collapsed": false
   }
  },
  {
   "cell_type": "code",
   "execution_count": 10,
   "metadata": {
    "ExecuteTime": {
     "end_time": "2023-09-28T06:02:03.803346584Z",
     "start_time": "2023-09-28T06:02:03.712930371Z"
    }
   },
   "outputs": [],
   "source": [
    "#Computation of the samples\n",
    "samples = rng1.gamma(shape=9, scale=1/2, size=10**5)\n",
    "\n",
    "#Save of the samples in a .npy file\n",
    "np.save('samples.npy', samples)"
   ]
  },
  {
   "cell_type": "markdown",
   "metadata": {},
   "source": [
    "\n",
    "3\\. Estimate an histogram of this distribution for a well chosen set of bins, and display it.\n",
    "> Warnings: \n",
    "> - make sure the [histogram](https://matplotlib.org/api/_as_gen/matplotlib.pyplot.hist.html?highlight=hist#matplotlib.pyplot.hist) corresponds to a probability density function (pdf);\n",
    "> - do not forget to include a proper title with names for the axes."
   ]
  },
  {
   "cell_type": "markdown",
   "metadata": {},
   "source": [
    "**Answer**:"
   ]
  },
  {
   "cell_type": "markdown",
   "source": [
    "After manually testing several values of bins (from 100 to 500), we chose the value of 120, as it seems the best tradeoff between readability and precision."
   ],
   "metadata": {
    "collapsed": false
   }
  },
  {
   "cell_type": "code",
   "execution_count": 11,
   "metadata": {
    "ExecuteTime": {
     "end_time": "2023-09-28T06:02:07.898647846Z",
     "start_time": "2023-09-28T06:02:05.556295340Z"
    }
   },
   "outputs": [
    {
     "data": {
      "text/plain": "<Figure size 640x480 with 1 Axes>",
      "image/png": "[encoded data removed]"
     },
     "metadata": {},
     "output_type": "display_data"
    }
   ],
   "source": [
    "import matplotlib.pyplot as plt\n",
    "plt.hist(samples, bins=120, density=True)\n",
    "plt.title('Histogram of the samples')\n",
    "plt.xlabel('Samples')\n",
    "plt.ylabel('Probability')\n",
    "plt.show()"
   ]
  },
  {
   "cell_type": "markdown",
   "metadata": {},
   "source": [
    "4\\. Overlay the probability density function on the histogram and compare these in a few words. Save the resulting picture in `.png` format.\n",
    "> Hint: \n",
    "> - take a look at the `scipy` [documentation](https://docs.scipy.org/doc/scipy/reference/stats.html) to avoid implementing the pdf from scratch;\n",
    "> - return the bins in which the histogram is computed, and evaluate the pdf on those points."
   ]
  },
  {
   "cell_type": "markdown",
   "metadata": {},
   "source": [
    "**Answer**:"
   ]
  },
  {
   "cell_type": "code",
   "execution_count": 12,
   "metadata": {
    "ExecuteTime": {
     "end_time": "2023-09-28T06:02:09.756880609Z",
     "start_time": "2023-09-28T06:02:07.771827751Z"
    }
   },
   "outputs": [
    {
     "data": {
      "text/plain": "<Figure size 640x480 with 1 Axes>",
      "image/png": "[encoded data removed]"
     },
     "metadata": {},
     "output_type": "display_data"
    }
   ],
   "source": [
    "from scipy.stats import gamma\n",
    "\n",
    "bins = np.linspace(0, 20, 120)\n",
    "\n",
    "#Computation of the probability density function\n",
    "pdf = gamma.pdf(bins, 9, scale=1/2)\n",
    "\n",
    "#Plot of the histogram and the pdf\n",
    "plt.hist(samples, bins=bins, density=True)\n",
    "plt.plot(bins, pdf, label='pdf') #Probability density function evaluated on the bins\n",
    "plt.title('Histogram of the samples')\n",
    "plt.xlabel('Samples')\n",
    "plt.ylabel('Probability')\n",
    "plt.legend()\n",
    "plt.show()"
   ]
  },
  {
   "cell_type": "markdown",
   "metadata": {},
   "source": [
    "---\n",
    "## <a name=\"ex2\">Exercise 2: Basic statistics with `pandas`</a>\n",
    "\n",
    "In this second exercise, we focus on computing basic statistics, and applying linear regression to a small data set. These data are gathered in the following table, which gives the infant mortality (`X`) and the gross national product per inhabitant (`Y`) of 12 european countries :\n",
    "\n",
    "| `X` | 190 | 128 | 180 | 212 | 56 | 192 | 68 | 98 | 110 | 197 | 181 | 233 |\n",
    "|-----|-----|-----|-----|----|-----|----|----|-----|-----|-----|-----|-----|\n",
    "| `Y` |  24 |  28 |  24 | 19 |  37 | 22 | 34 |  25 |  36 |  24 |  20 |  18 |\n",
    "\n",
    "1\\. For `X `and `Y`, compute the median, mean, variance and standard deviation. The data points have already been entered into a `.csv` file stored in `data/data.csv`.\n",
    "> Hint: \n",
    "> - you can directly use `pandas` to load the data into a `DataFrame` ([`pd.read_csv`](https://pandas.pydata.org/docs/reference/frame.html));\n",
    "> - take a look at the built-in operations available for `DataFrame` objects ([documentation](https://pandas.pydata.org/docs/reference/frame.html));\n",
    "> - to display a `DataFrame` `f`:\n",
    "> ```python \n",
    "> from IPython.display import display\n",
    "> display(df)\n",
    "> ```\n",
    "> - sort the `DataFrame` with respect to the value of `X` (see [here](https://pandas.pydata.org/docs/reference/api/pandas.DataFrame.sort_values.html#pandas.DataFrame.sort_values)) This will be useful for question 3."
   ]
  },
  {
   "cell_type": "markdown",
   "metadata": {},
   "source": [
    "**Answer**:"
   ]
  },
  {
   "cell_type": "code",
   "execution_count": 13,
   "metadata": {
    "ExecuteTime": {
     "end_time": "2023-09-28T06:02:10.594758253Z",
     "start_time": "2023-09-28T06:02:09.675359610Z"
    }
   },
   "outputs": [
    {
     "data": {
      "text/plain": "      X   Y\n4    56  37\n6    68  34\n7    98  25\n8   110  36\n1   128  28\n2   180  24\n10  181  20\n0   190  24\n5   192  22\n9   197  24\n3   212  19\n11  233  18",
      "text/html": "<div>\n<style scoped>\n    .dataframe tbody tr th:only-of-type {\n        vertical-align: middle;\n    }\n\n    .dataframe tbody tr th {\n        vertical-align: top;\n    }\n\n    .dataframe thead th {\n        text-align: right;\n    }\n</style>\n<table border=\"1\" class=\"dataframe\">\n  <thead>\n    <tr style=\"text-align: right;\">\n      <th></th>\n      <th>X</th>\n      <th>Y</th>\n    </tr>\n  </thead>\n  <tbody>\n    <tr>\n      <th>4</th>\n      <td>56</td>\n      <td>37</td>\n    </tr>\n    <tr>\n      <th>6</th>\n      <td>68</td>\n      <td>34</td>\n    </tr>\n    <tr>\n      <th>7</th>\n      <td>98</td>\n      <td>25</td>\n    </tr>\n    <tr>\n      <th>8</th>\n      <td>110</td>\n      <td>36</td>\n    </tr>\n    <tr>\n      <th>1</th>\n      <td>128</td>\n      <td>28</td>\n    </tr>\n    <tr>\n      <th>2</th>\n      <td>180</td>\n      <td>24</td>\n    </tr>\n    <tr>\n      <th>10</th>\n      <td>181</td>\n      <td>20</td>\n    </tr>\n    <tr>\n      <th>0</th>\n      <td>190</td>\n      <td>24</td>\n    </tr>\n    <tr>\n      <th>5</th>\n      <td>192</td>\n      <td>22</td>\n    </tr>\n    <tr>\n      <th>9</th>\n      <td>197</td>\n      <td>24</td>\n    </tr>\n    <tr>\n      <th>3</th>\n      <td>212</td>\n      <td>19</td>\n    </tr>\n    <tr>\n      <th>11</th>\n      <td>233</td>\n      <td>18</td>\n    </tr>\n  </tbody>\n</table>\n</div>"
     },
     "metadata": {},
     "output_type": "display_data"
    }
   ],
   "source": [
    "import pandas as pd\n",
    "df = pd.read_csv('data/data.csv')\n",
    "\n",
    "#Sort the DataFrame with respect to the value of X\n",
    "df = df.sort_values(by=['X'])\n",
    "display(df)"
   ]
  },
  {
   "cell_type": "code",
   "execution_count": 14,
   "outputs": [
    {
     "name": "stdout",
     "output_type": "stream",
     "text": [
      "Median of X:  180.5 \n",
      "Median of Y:  24.0\n",
      "Mean of X:  153.75 \n",
      "Mean of Y:  25.916666666666668\n",
      "Variance of X:  3486.0227272727275 \n",
      "Variance of Y:  42.446969696969695\n",
      "Standard deviation of X:  59.04255014201815 \n",
      "Standard deviation of Y:  6.5151338970868204\n"
     ]
    }
   ],
   "source": [
    "#Compute the median of X and Y\n",
    "median_X = df['X'].median()\n",
    "median_Y = df['Y'].median()\n",
    "print('Median of X: ', median_X, '\\nMedian of Y: ', median_Y)\n",
    "\n",
    "#Compute the mean of X and Y\n",
    "mean_X = df['X'].mean()\n",
    "mean_Y = df['Y'].mean()\n",
    "print('Mean of X: ', mean_X, '\\nMean of Y: ', mean_Y)\n",
    "\n",
    "#Compute the variance of X and Y\n",
    "var_X = df['X'].var()\n",
    "var_Y = df['Y'].var()\n",
    "print('Variance of X: ', var_X, '\\nVariance of Y: ', var_Y)\n",
    "\n",
    "#Compute the standard deviation of X and Y\n",
    "std_X = df['X'].std()\n",
    "std_Y = df['Y'].std()\n",
    "print('Standard deviation of X: ', std_X, '\\nStandard deviation of Y: ', std_Y)"
   ],
   "metadata": {
    "collapsed": false,
    "ExecuteTime": {
     "end_time": "2023-09-28T06:02:10.652240688Z",
     "start_time": "2023-09-28T06:02:10.508055798Z"
    }
   }
  },
  {
   "cell_type": "markdown",
   "metadata": {},
   "source": [
    "2\\. Give the equation of the regression line of `Y` as a function of `X`.\n",
    "> Hint: \n",
    "> - take a look at the functionalities available in `numpy` (e.g., `np.polyfit` and `np.polyval`);\n",
    "> - if needed, note that you can retrieve the data from the resulting `pandas` `DataFrame` with the `to_numpy()` method."
   ]
  },
  {
   "cell_type": "markdown",
   "metadata": {},
   "source": [
    "**Answer**:"
   ]
  },
  {
   "cell_type": "markdown",
   "source": [
    "To compute the regression line, we use the polyfit function from numpy, with the degree of the polynomial equal to 1 (since it's a linear regression)."
   ],
   "metadata": {
    "collapsed": false
   }
  },
  {
   "cell_type": "code",
   "execution_count": 15,
   "metadata": {
    "ExecuteTime": {
     "end_time": "2023-09-28T06:02:10.656368453Z",
     "start_time": "2023-09-28T06:02:10.549784287Z"
    }
   },
   "outputs": [
    {
     "name": "stdout",
     "output_type": "stream",
     "text": [
      "[-0.09816475 41.0094968 ]\n"
     ]
    }
   ],
   "source": [
    "coeffs = np.polyfit(df['X'], df['Y'], deg=1)\n",
    "print(coeffs)"
   ]
  },
  {
   "cell_type": "markdown",
   "metadata": {},
   "source": [
    "3\\. Display the cloud of points and the regression line $Y = f(X)$ on the same figure. Save the figure in `.png` format."
   ]
  },
  {
   "cell_type": "markdown",
   "metadata": {},
   "source": [
    "**Answer**:"
   ]
  },
  {
   "cell_type": "code",
   "execution_count": 16,
   "metadata": {
    "ExecuteTime": {
     "end_time": "2023-09-28T06:02:11.688243923Z",
     "start_time": "2023-09-28T06:02:10.971198517Z"
    }
   },
   "outputs": [
    {
     "data": {
      "text/plain": "<Figure size 640x480 with 1 Axes>",
      "image/png": "[encoded data removed]"
     },
     "metadata": {},
     "output_type": "display_data"
    }
   ],
   "source": [
    "plt.scatter(df['X'], df['Y'], label='Cloud of points') \n",
    "plt.plot(df['X'], np.polyval(coeffs, df['X']), label='Regression line', color='red') #Plot of the regression line (evaluating Y=aX + b with the numpy.polyval function).\n",
    "plt.title('Cloud of points and regression line')\n",
    "plt.xlabel('X')\n",
    "plt.ylabel('Y')\n",
    "plt.legend()\n",
    "plt.show()"
   ]
  },
  {
   "cell_type": "markdown",
   "metadata": {},
   "source": [
    "---\n",
    "## <a name=\"ex3\">Exercise 3: Discrete isotropic total variation</a>\n",
    "\n",
    "This exercise is devoted to the computation of the discrete isotropic total variation (TV) of an input matrix $\\mathbf{X} = [\\mathbf{x}_n]_{1 \\leq n \\leq N} \\in\\mathbb{C}^{M \\times N}$, which is particularly useful in Bayesian inference (e.g., for inverse problems) to promote piece-wise smooth solutions. The TV is defined as\n",
    "\n",
    "\\begin{equation*}\n",
    "    \\text{TV}(\\mathbf{X}) = \\Vert D(\\mathbf{X}) \\Vert_{1,2} = \\sum_{m=1}^M \\sum_{n=1}^N \\sqrt{[\\mathbf{XD}_h]^2_{m,n} + [\\mathbf{D}_v\\mathbf{X}]^2_{m,n}},\n",
    "\\end{equation*}\n",
    "\n",
    "where $[\\mathbf{Z}]_{m,n}$ denotes the elements in position $(m,n)$ of the matrix $\\mathbf{Z}$,\n",
    "\n",
    "\\begin{align*}\n",
    "    D(X) &= (\\mathbf{XD}_h, \\mathbf{D}_v\\mathbf{X}) \\in \\mathbb{C}^{M\\times N} \\times \\mathbb{C}^{M\\times N} \\\\\n",
    "    %\n",
    "    \\mathbf{XD}_h &= [\\mathbf{x}_2-\\mathbf{x}_1, \\dotsc, \\mathbf{x}_N-\\mathbf{x}_{N-1}, \\mathbf{0}_M] \\in \\mathbb{C}^{M\\times N} \\\\\n",
    "    %\n",
    "    \\mathbf{D}_v\\mathbf{X} &= [\\tilde{\\mathbf{x}}_2^T-\\tilde{\\mathbf{x}}^T_1, \\dotsc, \\tilde{\\mathbf{x}}^T_M-\\tilde{\\mathbf{x}}^T_{M-1}, \\mathbf{0}_N]^T \\in \\mathbb{C}^{M\\times N},\n",
    "\\end{align*}\n",
    "\n",
    "$\\mathbf{x}_n \\in \\mathbb{C}^{M}$ is the $n$-th column of $\\mathbf{X}$, and $\\tilde{\\mathbf{x}}_m \\in \\mathbb{C}^{1\\times N}$ is the $m$-th row of $\\mathbf{X}$. \n",
    "The linear operator $D: \\mathbb{C}^{M\\times N} \\rightarrow \\mathbb{C}^{M\\times N} \\times \\mathbb{C}^{M\\times N} $ is the discrete gradient operator. The adjoint of $D$, $D^*: \\mathbb{C}^{M\\times N} \\times \\mathbb{C}^{M\\times N} \\rightarrow \\mathbb{C}^{M\\times N}$, is given by\n",
    "\n",
    "\\begin{align*}\n",
    "    (\\forall \\mathbf{Y} = (\\mathbf{Y}_h,\\mathbf{Y}_v)), \\quad D^*(\\mathbf{Y}) &= \\mathbf{Y}_h\\mathbf{D}^*_h + \\mathbf{D}^*_v\\mathbf{Y}_v \\\\\n",
    "    %\n",
    "    \\mathbf{Y}_h\\mathbf{D}^*_h &= \\big[-\\mathbf{y}_{h,1},- [\\mathbf{y}_{h,n}-\\mathbf{y}_{h,n-1}]_{2 \\leq n \\leq N-1}, \\mathbf{y}_{h, N-1} \\big] \\\\\n",
    "    %\n",
    "    \\mathbf{D}^*_v\\mathbf{Y}_v &= \\big[-\\tilde{\\mathbf{y}}_{v,1}^T,- [\\tilde{\\mathbf{y}}_{v,m}^T-\\tilde{\\mathbf{y}}^T_{v,m-1}]_{2 \\leq m \\leq M-1}, \\tilde{\\mathbf{y}}^T_{v, M-1} \\big]^T\n",
    "\\end{align*}\n",
    "\n",
    "where $\\mathbf{y}_{h,n}$ is the $n$-th column of $\\mathbf{Y}_h$, and $\\tilde{\\mathbf{x}}_{v,m}$ is the $m$-th row of $\\mathbf{Y}_v$.\n",
    "\n",
    "1\\. Using `numpy`, implement a function `gradient2D` to compute the 2D discrete gradient operator $D$ applied to a matrix $\\mathbf{X}\\in\\mathbb{C}^{M \\times N}$ (no for loops!). Trigger an error message whenever the input array has more than 2 dimensions. If not clear from the implementation, add a few short comments to explain your code.\n",
    "\n",
    "> Hint: \n",
    "> - to trigger an error, you can for instance use an `assert` statement, or raise an [exception (e.g., `AssertionError`)](https://docs.python.org/3/library/exceptions.html);\n",
    "> - only a few operations are needed: computing vertical differences, horizontal differences, and possibly a concatenation of matrices into a single tensor (= n-dimensional array);\n",
    "> - possibly useful functions: `np.diff`, `np.c_`, `np.r_` (or `np.concatenate`). "
   ]
  },
  {
   "cell_type": "markdown",
   "metadata": {},
   "source": [
    "**Answer**:"
   ]
  },
  {
   "cell_type": "code",
   "execution_count": 17,
   "metadata": {
    "ExecuteTime": {
     "end_time": "2023-09-28T06:18:36.634925265Z",
     "start_time": "2023-09-28T06:18:36.560296187Z"
    }
   },
   "outputs": [],
   "source": [
    "def gradient2D(X):\n",
    "    \"\"\"\n",
    "    Computes the 2D discrete gradient operator D applied to a matrix X.\n",
    "    \n",
    "    Parameters\n",
    "    ----------\n",
    "    X : array_like\n",
    "        Input array.\n",
    "        \n",
    "    Returns\n",
    "    -------\n",
    "    X_h : array_like\n",
    "        Horizontal differences of X.\n",
    "    X_v : array_like\n",
    "        Vertical differences of X.\n",
    "        \n",
    "    Raises\n",
    "    ------\n",
    "    AssertionError\n",
    "        If the input array has more than 2 dimensions.\n",
    "    \"\"\"\n",
    "    assert X.ndim < 3, \"Error: the input array has more than 2 dimensions\"\n",
    "    X_h = np.c_[np.diff(X, axis=1), np.zeros(X.shape[0])] #Horizontal differences\n",
    "    X_v = np.r_[np.diff(X, axis=0), np.zeros((1, X.shape[1]))] #Vertical differences\n",
    "    return X_h, X_v"
   ]
  },
  {
   "cell_type": "markdown",
   "metadata": {},
   "source": [
    "2\\. Implement a unit-test to validate the behaviour of the `gradient2D` function. For instance, you can check the format of the output, and test the result when the function is evaluated on a constant matrix (for both a square and a non-square input matrix). Run the unit-test from the present Jupyter notebook."
   ]
  },
  {
   "cell_type": "markdown",
   "metadata": {},
   "source": [
    "**Answer**:"
   ]
  },
  {
   "cell_type": "code",
   "execution_count": 18,
   "metadata": {
    "ExecuteTime": {
     "end_time": "2023-09-28T06:18:37.080566164Z",
     "start_time": "2023-09-28T06:18:37.000204121Z"
    }
   },
   "outputs": [],
   "source": [
    "def gradient2DTest():\n",
    "    #Constant square matrix\n",
    "    C = np.full((10,10),8) \n",
    "    gradC = gradient2D(C)\n",
    "    assert gradC[0].shape == C.shape and gradC[1].shape == C.shape, \"Error: the output of gradient2D is incorrect (constant square matrix case)\"\n",
    "    \n",
    "    #The gradient of a constant matrix being 0, we use the .all method to compare the theoretical result and the gradient2D one.\n",
    "    assert (gradC == np.zeros((C.shape[0],C.shape[1]))).all(), \"Error: incorrect result (constant square matrix)\"\n",
    "    \n",
    "    #Constant non-square input matrix\n",
    "    D = np.full((5,10),8)\n",
    "    gradD = gradient2D(D)\n",
    "    assert gradD[0].shape == D.shape and gradD[1].shape == D.shape, \"Error: the output of gradient2D is incorrect (constant non-square matrix case)\"\n",
    "    \n",
    "    assert (gradD == np.zeros((D.shape[0],D.shape[1]))).all(), \"Error: incorrect result (constant non-square matrix)\"\n",
    "    #TODO add a matrix non constant and compute by hand the resultTODO add a matrix non constant and compute by hand the result\n",
    "gradient2DTest()"
   ]
  },
  {
   "cell_type": "markdown",
   "metadata": {},
   "source": [
    "3\\. Document the function `gradient2D` with an appropriate docstring (see Lab 1)."
   ]
  },
  {
   "cell_type": "markdown",
   "metadata": {},
   "source": [
    "**Answer**:"
   ]
  },
  {
   "cell_type": "markdown",
   "source": [
    "Cf. gradient2D function up above."
   ],
   "metadata": {
    "collapsed": false
   }
  },
  {
   "cell_type": "markdown",
   "metadata": {},
   "source": [
    "4\\. Using 1., define a function `tv` to compute $\\text{TV}(\\mathbf{X})$, $\\mathbf{X}\\in\\mathbb{C}^{M \\times N}$. Write a unit-test and document your function."
   ]
  },
  {
   "cell_type": "markdown",
   "metadata": {},
   "source": [
    "**Answer**:"
   ]
  },
  {
   "cell_type": "code",
   "execution_count": 19,
   "metadata": {
    "ExecuteTime": {
     "end_time": "2023-09-28T06:18:37.953891916Z",
     "start_time": "2023-09-28T06:18:37.911523570Z"
    }
   },
   "outputs": [],
   "source": [
    "def tv(X):\n",
    "    \"\"\"\n",
    "    Computes the discrete isotropic total variation of an input matrix X.\n",
    "    \n",
    "    Parameters\n",
    "    ----------\n",
    "    X : array_like\n",
    "        Input array.\n",
    "        \n",
    "    Returns\n",
    "    -------\n",
    "    tv : float\n",
    "        Discrete isotropic total variation of X.\n",
    "    \"\"\"\n",
    "    X_h, X_v = gradient2D(X)\n",
    "    tv = np.sum(np.sqrt(X_h**2 + X_v**2))\n",
    "    return tv"
   ]
  },
  {
   "cell_type": "code",
   "execution_count": 20,
   "outputs": [],
   "source": [
    "def tvTest():\n",
    "    #Constant square matrix\n",
    "    C = np.full((10,10),8) \n",
    "    assert tv(C) == 0, \"Error: incorrect result (constant square matrix)\"\n",
    "    \n",
    "    #Constant non-square input matrix\n",
    "    D = np.full((5,10),8)\n",
    "    assert tv(D) == 0, \"Error: incorrect result (constant non-square matrix)\"\n",
    "    #TODO add a matrix non constant and compute by hand the result\n",
    "tvTest()"
   ],
   "metadata": {
    "collapsed": false,
    "ExecuteTime": {
     "end_time": "2023-09-28T06:18:38.446097927Z",
     "start_time": "2023-09-28T06:18:38.373827618Z"
    }
   }
  },
  {
   "cell_type": "markdown",
   "metadata": {},
   "source": [
    "5\\. Implement a function `gradient2D_adjoint` to compute $D^*(\\mathbf{Y})$, the adjoint of the 2D discrete gradient operator $D$ applied to $\\mathbf{Y}\\in\\mathbb{C}^{M \\times N}\\times \\mathbb{C}^{M \\times N}$. Add a few short comments to explain your code whenever appropriate."
   ]
  },
  {
   "cell_type": "markdown",
   "metadata": {},
   "source": [
    "**Answer**:"
   ]
  },
  {
   "cell_type": "code",
   "execution_count": 21,
   "metadata": {
    "ExecuteTime": {
     "end_time": "2023-09-28T07:12:41.113262191Z",
     "start_time": "2023-09-28T07:12:41.069998197Z"
    }
   },
   "outputs": [],
   "source": [
    "def gradient2D_adjoint(Y_h,Y_v):\n",
    "    YhDh = np.c_[-Y_h[:,0], -np.diff(Y_h, axis=1), -Y_h[:,-1]] #Horizontal differences (same implementation as gradient2D)\n",
    "    DvYv = np.r_[-np.reshape(Y_v[0],newshape=[1,-1]), -np.diff(Y_v, axis=0), -np.reshape(Y_v[-1],newshape=[1,-1])].T #Vertical differences \n",
    "    return YhDh + DvYv"
   ]
  },
  {
   "cell_type": "markdown",
   "metadata": {},
   "source": [
    "6\\. Implement a unit-test to validate `gradient2D_adjoint`, e.g., by checking the size of the output from the function and verifying that `gradient2D_adjoint` is adjoint to `gradient2D`, i.e., for any $\\mathbf{X}\\in\\mathbb{C}^{M \\times N}$ and $\\mathbf{Y}\\in\\mathbb{C}^{M \\times N}\\times \\mathbb{C}^{M \\times N}$:\n",
    "\n",
    "\\begin{equation}\n",
    "    \\forall \\mathbf{X} \\in \\mathbb{C}^{M \\times N}, \\mathbf{Y} = (\\mathbf{Y}_h, \\mathbf{Y}_v) \\in \\mathbb{C}^{M \\times N} \\times \\mathbb{C}^{M \\times N}, \\;\n",
    "    %\n",
    "    \\langle D(\\mathbf{X}), \\mathbf{Y} \\rangle_{\\mathbb{C}^{M \\times N} \\times \\mathbb{C}^{M \\times N}} = \\langle \\mathbf{X}, D^*(\\mathbf{Y}) \\rangle_{\\mathbb{C}^{M \\times N}}, \n",
    "\\end{equation}\n",
    "\n",
    "where \n",
    "\n",
    "\\begin{align}\n",
    "    &\\forall \\mathbf{U}, \\mathbf{V} \\in \\mathbb{C}^{M \\times N}, \\; \\langle \\mathbf{U}, \\mathbf{V} \\rangle_{\\mathbb{C}^{M \\times N}} = \\text{Tr}(\\mathbf{U}^T \\mathbf{V}) = \\sum_{m=1}^M \\sum_{n=1}^N u_{m,n}^* v_{m,n}, \\\\\n",
    "    &\\forall \\mathbf{U} = (\\mathbf{U}_h, \\mathbf{U}_v), \\mathbf{V} = (\\mathbf{V}_h, \\mathbf{V}_v) \\in \\mathbb{C}^{M \\times N} \\times \\mathbb{C}^{M \\times N}, \\; \\langle \\mathbf{U}, \\mathbf{V} \\rangle_{\\mathbb{C}^{M \\times N} \\times \\mathbb{C}^{M \\times N}} = \\langle \\mathbf{U}_h, \\mathbf{V}_h \\rangle_{\\mathbb{C}^{M \\times N}} + \\langle \\mathbf{U}_v, \\mathbf{V}_v \\rangle_{\\mathbb{C}^{M \\times N}}.\n",
    "\\end{align}\n",
    "\n",
    "> Hint: to verify `gradient2D_adjoint` is the adjoint of `gradient2D`, evaluate the scalar products above for randomly drawn matrices. Set the random generator to a known state for reproducibility (see [Exercise 1](#ex1)).\n",
    "> `np.conj` is useful."
   ]
  },
  {
   "cell_type": "markdown",
   "metadata": {},
   "source": [
    "**Answer**:"
   ]
  },
  {
   "cell_type": "code",
   "execution_count": 22,
   "metadata": {
    "ExecuteTime": {
     "end_time": "2023-09-28T07:12:32.083931107Z",
     "start_time": "2023-09-28T07:12:32.041277244Z"
    }
   },
   "outputs": [
    {
     "name": "stdout",
     "output_type": "stream",
     "text": [
      "2.011778117595545 -5.811766114031243\n"
     ]
    },
    {
     "ename": "AssertionError",
     "evalue": "Error: incorrect result",
     "output_type": "error",
     "traceback": [
      "\u001B[1;31m---------------------------------------------------------------------------\u001B[0m",
      "\u001B[1;31mAssertionError\u001B[0m                            Traceback (most recent call last)",
      "Input \u001B[1;32mIn [22]\u001B[0m, in \u001B[0;36m<cell line: 24>\u001B[1;34m()\u001B[0m\n\u001B[0;32m     21\u001B[0m     \u001B[38;5;28mprint\u001B[39m(SP1,SP2)\n\u001B[0;32m     22\u001B[0m     \u001B[38;5;28;01massert\u001B[39;00m SP1 \u001B[38;5;241m==\u001B[39m SP2, \u001B[38;5;124m\"\u001B[39m\u001B[38;5;124mError: incorrect result\u001B[39m\u001B[38;5;124m\"\u001B[39m\n\u001B[1;32m---> 24\u001B[0m \u001B[43mgradient2D_adjointTest\u001B[49m\u001B[43m(\u001B[49m\u001B[43m)\u001B[49m\n",
      "Input \u001B[1;32mIn [22]\u001B[0m, in \u001B[0;36mgradient2D_adjointTest\u001B[1;34m()\u001B[0m\n\u001B[0;32m     20\u001B[0m SP2 \u001B[38;5;241m=\u001B[39m computeInnerProduct(X,AdDX) \u001B[38;5;66;03m#<X,D*(Y)>\u001B[39;00m\n\u001B[0;32m     21\u001B[0m \u001B[38;5;28mprint\u001B[39m(SP1,SP2)\n\u001B[1;32m---> 22\u001B[0m \u001B[38;5;28;01massert\u001B[39;00m SP1 \u001B[38;5;241m==\u001B[39m SP2, \u001B[38;5;124m\"\u001B[39m\u001B[38;5;124mError: incorrect result\u001B[39m\u001B[38;5;124m\"\u001B[39m\n",
      "\u001B[1;31mAssertionError\u001B[0m: Error: incorrect result"
     ]
    }
   ],
   "source": [
    "def computeInnerProduct(A,B) :\n",
    "    C=0\n",
    "    n, m = A.shape\n",
    "    for i in range(n) :\n",
    "        for j in range(m) :\n",
    "            C += np.conj(A[i,j])*B[i,j]\n",
    "    return C\n",
    "\n",
    "def gradient2D_adjointTest():\n",
    "    #Random matrices\n",
    "    rng = np.random.default_rng(rn_seed) #We initialize a generator with the seed used in Exercise 1\n",
    "    X = np.array(rng.random((10,10)))\n",
    "    Y_h = np.array(rng.random((10,10)))\n",
    "    Y_v = np.array(rng.random((10,10)))\n",
    "    \n",
    "    #Scalar products\n",
    "    DX = gradient2D(X) #D(X)\n",
    "    AdDX = gradient2D_adjoint(Y_h,Y_v) #D*(Y)\n",
    "    SP1 = computeInnerProduct(DX[0],Y_h) + computeInnerProduct(DX[1],Y_v) #<D(X),Y>\n",
    "    SP2 = computeInnerProduct(X,AdDX) #<X,D*(Y)>\n",
    "    print(SP1,SP2)\n",
    "    assert SP1 == SP2, \"Error: incorrect result\"\n",
    "\n",
    "gradient2D_adjointTest()"
   ]
  },
  {
   "cell_type": "markdown",
   "metadata": {},
   "source": [
    "[Bonus, **optional**]. Generalize the `gradient2D` to any number of dimensions ($\\mathbf{X} \\in \\mathbb{C}^{N_1 \\times N_2 \\times \\dotsc \\times N_p}$), i.e., by returning tensors obtained by computing differences along each of its dimensions.\n",
    "> Hint: \n",
    "> - you may use a loops here, and/or list comprehension. Using slice objects (see [np.s_](https://numpy.org/doc/stable/reference/generated/numpy.s_.html?highlight=s_#numpy.s_) and [this page](https://stackoverflow.com/questions/24432209/python-index-an-array-using-the-colon-operator-in-an-arbitrary-dimension)) can be an interesting option.\n",
    ">\n",
    "> - the definition of the scalar product above can be extended to the case of tensors as follows:\n",
    "\\begin{equation}\n",
    "    \\mathbf{U}, \\mathbf{V} \\in \\mathbb{C}^{N_1 \\times N_2 \\times \\dotsc \\times N_p}, \\; \\langle \\mathbf{U}, \\mathbf{V} \\rangle_{\\mathbb{C}^{N_1 \\times N_2 \\times \\dotsc \\times N_p}} =  \\sum_{n_1 = 1}^{N_1}  \\sum_{n_2 = 1}^{N_2} \\dotsc \\sum_{n_p = 1}^{N_p} u_{n_1, n_2, \\dotsc, n_p}^* v_{n_1, n_2, \\dotsc, n_p}   \n",
    "\\end{equation}"
   ]
  },
  {
   "cell_type": "markdown",
   "metadata": {},
   "source": [
    "**Answer**:"
   ]
  },
  {
   "cell_type": "code",
   "execution_count": null,
   "metadata": {},
   "outputs": [],
   "source": [
    "# your code"
   ]
  },
  {
   "cell_type": "markdown",
   "metadata": {},
   "source": [
    "## Reference\n",
    "\n",
    "```bibtex\n",
    "@article{condat:hal-01309685,\n",
    "  TITLE = {{Discrete Total Variation: New Definition and Minimization}},\n",
    "  AUTHOR = {Condat, Laurent},\n",
    "  URL = {https://hal.archives-ouvertes.fr/hal-01309685},\n",
    "  JOURNAL = {{SIAM Journal on Imaging Sciences}},\n",
    "  PUBLISHER = {{Society for Industrial and Applied Mathematics}},\n",
    "  VOLUME = {10},\n",
    "  NUMBER = {3},\n",
    "  PAGES = {1258--1290},\n",
    "  YEAR = {2017},\n",
    "  MONTH = Aug,\n",
    "  DOI = {10.1137/16M1075247},\n",
    "  KEYWORDS = { variational image processing ; total variation ;  finite-difference schemes ;  coarea formula},\n",
    "  PDF = {https://hal.archives-ouvertes.fr/hal-01309685v3/file/Condat-newTV.pdf},\n",
    "  HAL_ID = {hal-01309685},\n",
    "  HAL_VERSION = {v3},\n",
    "}\n",
    "```\n"
   ]
  }
 ],
 "metadata": {
  "kernelspec": {
   "display_name": "Python 3 (ipykernel)",
   "language": "python",
   "name": "python3"
  },
  "language_info": {
   "codemirror_mode": {
    "name": "ipython",
    "version": 3
   },
   "file_extension": ".py",
   "mimetype": "text/x-python",
   "name": "python",
   "nbconvert_exporter": "python",
   "pygments_lexer": "ipython3",
   "version": "3.8.10"
  },
  "vscode": {
   "interpreter": {
    "hash": "916dbcbb3f70747c44a77c7bcd40155683ae19c65e1c03b4aa3499c5328201f1"
   }
  }
 },
 "nbformat": 4,
 "nbformat_minor": 4
}
