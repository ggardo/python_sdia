{
 "cells": [
  {
   "cell_type": "markdown",
   "metadata": {},
   "source": [
    "# Practical session 4 - K-nearest neighbours (K-NN) classification with numpy, scikit-learn, cython and numba\n",
    "\n",
    "Student:\n",
    "- Mathis Guckert([link](https://github.com/MGuckert))"
   ]
  },
  {
   "cell_type": "markdown",
   "metadata": {},
   "source": [
    "**Useful references for this lab**:\n",
    "\n",
    "[1] scikit-learn: [documentation](https://scikit-learn.org/stable/modules/neighbors.html?highlight=knn%20classification)\n",
    "\n",
    "[2] `numba`: [documentation](http://numba.pydata.org/) \n",
    "\n",
    "[3] cython: [a very useful tutorial](https://cython.readthedocs.io/en/latest/src/userguide/numpy_tutorial.html#numpy-tutorial), and [another one](http://docs.cython.org/en/latest/src/tutorial/cython_tutorial.html)\n",
    "\n",
    "\n",
    "\n",
    "## <a name=\"content\">Contents</a>\n",
    "- [Exercise 1: KNN classification with numpy and sklearn](#ex1)\n",
    "- [Exercise 2: Code acceleration with cython](#ex2)\n",
    "- [Exercise 3: Code acceleration with numba](#ex3)\n",
    "---"
   ]
  },
  {
   "cell_type": "code",
   "execution_count": 1,
   "metadata": {
    "ExecuteTime": {
     "end_time": "2023-10-16T11:17:34.973726085Z",
     "start_time": "2023-10-16T11:17:34.294480511Z"
    }
   },
   "outputs": [],
   "source": [
    "%load_ext autoreload\n",
    "%autoreload 2"
   ]
  },
  {
   "cell_type": "markdown",
   "metadata": {},
   "source": [
    "## <a name=\"ex1\">Exercise 1: K-Nearest Neighbours (K-NN) classification with numpy and scikit-learn</a> [(&#8593;)](#content)"
   ]
  },
  {
   "cell_type": "markdown",
   "metadata": {},
   "source": [
    "This session is a first introduction to classification using the most intuitive non parametric method: the $K$-nearest neighbours. The principle is [the following](https://scikit-learn.org/stable/modules/neighbors.html?highlight=knn%20classification). A set of labelled observations is given as a learning set. A classification taks then consists in assigning a label to any new observation. In particular, the K-NN approach consists in assigning to the observation the most frequent label among its $K$ nearest neighbours taken in the training set."
   ]
  },
  {
   "cell_type": "markdown",
   "metadata": {},
   "source": [
    "### A. Validation on synthetic data\n",
    "\n",
    "Load the training and test datasets `data/synth_train.txt` and `data/synth_test.txt`. Targets belong to the set $\\{1,2\\}$ and entries belong to $\\mathbb{R}^2$. The file `data/synth_train.txt` contain 100 training data samples, and `data/synth_test.txt` contains 200 test samples, where:\n",
    "\n",
    "- the 1st column contains the label of the class the sample;\n",
    "- columns 2 & 3 contain the coordinates of each sample (in $\\mathbb{R}^2$).\n",
    "\n",
    "Useful commands can be found below."
   ]
  },
  {
   "cell_type": "markdown",
   "metadata": {},
   "source": [
    "```python\n",
    "# load the training set\n",
    "train = np.loadtxt('data/synth_train.txt')  #...,delimiter=',') if there are ',' as delimiters\n",
    "class_train = train[:,0]\n",
    "x_train = train[:,1:]\n",
    "N_train = train.shape[0]\n",
    "```"
   ]
  },
  {
   "cell_type": "markdown",
   "metadata": {},
   "source": [
    "```python\n",
    "# load the test set\n",
    "test = np.loadtxt('/datasynth_test.txt') \n",
    "class_test_1 = test[test[:,0]==1]\n",
    "class_test_2 = test[test[:,0]==2]\n",
    "x_test = test[:,1:]\n",
    "N_test = test.shape[0]\n",
    "```"
   ]
  },
  {
   "cell_type": "markdown",
   "metadata": {},
   "source": [
    "1\\. Display the training set and distinguish the two classes. \n",
    "\n",
    "> Hint: useful functions include `matplotlib.pyplot.scatter` or `matplotlib.pyplot.plot`."
   ]
  },
  {
   "cell_type": "markdown",
   "metadata": {},
   "source": [
    "**Answer:**"
   ]
  },
  {
   "cell_type": "code",
   "execution_count": 2,
   "outputs": [],
   "source": [
    "import numpy as np\n",
    "import matplotlib.pyplot as plt\n",
    "import bottleneck as bn\n",
    "import sklearn.neighbors\n",
    "import timeit"
   ],
   "metadata": {
    "collapsed": false,
    "ExecuteTime": {
     "end_time": "2023-10-16T11:17:35.910532710Z",
     "start_time": "2023-10-16T11:17:34.300699789Z"
    }
   }
  },
  {
   "cell_type": "code",
   "execution_count": 3,
   "metadata": {
    "ExecuteTime": {
     "end_time": "2023-10-16T11:17:36.166039314Z",
     "start_time": "2023-10-16T11:17:35.950713824Z"
    }
   },
   "outputs": [
    {
     "data": {
      "text/plain": "<Figure size 432x288 with 1 Axes>",
      "image/png": "[encoded data removed]"
     },
     "metadata": {
      "needs_background": "light"
     },
     "output_type": "display_data"
    }
   ],
   "source": [
    "# load the training set\n",
    "train = np.loadtxt('data/synth_train.txt')  #...,delimiter=',') if there are ',' as delimiters\n",
    "class_train = train[:,0]\n",
    "x_train = train[:,1:]\n",
    "N_train = train.shape[0]\n",
    "\n",
    "# load the test set\n",
    "test = np.loadtxt('data/synth_test.txt') \n",
    "class_test = test[:,0]\n",
    "#class_test_1 = test[test[:,0]==1]\n",
    "#class_test_2 = test[test[:,0]==2]\n",
    "x_test = test[:,1:]\n",
    "N_test = test.shape[0]\n",
    "\n",
    "#Plot the training set with different colors for each class\n",
    "plt.scatter(x_train[:,0],x_train[:,1],c=class_train)\n",
    "plt.show()"
   ]
  },
  {
   "cell_type": "markdown",
   "source": [
    "Thanks to the option `c=class_train` of `plt.scatter`, we can easily distinguish the two classes."
   ],
   "metadata": {
    "collapsed": false
   }
  },
  {
   "cell_type": "markdown",
   "metadata": {},
   "source": [
    "2\\. Implement the K-nearest neighbours algorithm for classification.\n",
    "\n",
    "> Hint: \n",
    "> - useful functions include `numpy.linalg.norm`, `numpy.argsort`, `numpy.bincount`;\n",
    "> - implement the algorithm as a function rather than an object. This will drastically simplify the acceleration step using Cython.\n",
    "> - for an optimized partial sorting procedure, you may have a look at the [`bottleneck.argpartition` function](https://bottleneck.readthedocs.io/en/latest/reference.html#bottleneck.argpartition).\n",
    "> 1. Compute for each row in `x_test` (if necessary use `np.newaxis`) its distance with respect to `x_train`:\n",
    ">  - Use  `numpy.linalg.norm` (in which dimension this distance is computed ? Consider using `axis` argument)\n",
    "> 2. Sort the ordered collection of distances (indices from smallest to largest (in ascending order) by the distances):\n",
    ">   - Use `np.argsort` (at the end replace this procedure by `bottleneck.argpartition`)\n",
    ">   - Once the sorting is done, we take only the indices of `labels` of the `n_neighbours` nearest neighbours of the `class_train` :\n",
    ">     - `id = np.argsort(distances)[:n_ neighbours]` and `labels = class_train[id]`\n",
    "> 3. The K-nearest can be used for **Regression**, in this case it is necessary to return the mean of the K-labels. For **Classification**,  we return the mode of the K-labels :\n",
    "> - Use `np.bincount` for `labels` to affect the variable `class_pred[q]` (for row `q`). This procedure counts the number of occurrences of each value in array. **Mode** is the value that appears. How can we get this value ?\n"
   ]
  },
  {
   "cell_type": "markdown",
   "metadata": {},
   "source": [
    "**Answer:**"
   ]
  },
  {
   "cell_type": "code",
   "execution_count": 4,
   "metadata": {
    "ExecuteTime": {
     "end_time": "2023-10-16T11:17:36.419575579Z",
     "start_time": "2023-10-16T11:17:36.169042289Z"
    }
   },
   "outputs": [
    {
     "data": {
      "text/plain": "<Figure size 432x288 with 1 Axes>",
      "image/png": "[encoded data removed]"
     },
     "metadata": {
      "needs_background": "light"
     },
     "output_type": "display_data"
    }
   ],
   "source": [
    "def KNN(x_train,class_train,x_test,n_neighbours):\n",
    "    N_train = x_train.shape[0]\n",
    "    N_test = x_test.shape[0]\n",
    "    distances = np.zeros((N_test,N_train))\n",
    "    for i in range(N_test):\n",
    "        #Compute the distance between each row of x_test and x_train\n",
    "        distances[i,:] = np.linalg.norm(x_train-x_test[i,:],axis=1)\n",
    "    #Sort the distances and keep the indices of the nearest neighbours\n",
    "    id = bn.argpartition(distances,n_neighbours-1,axis=1)[:,:n_neighbours]\n",
    "    #Retrieve the labels of the nearest neighbours\n",
    "    labels = class_train[id]\n",
    "    class_pred = np.zeros(N_test)\n",
    "    for i in range(N_test):\n",
    "        #Give to class_pred the most frequent label among the nearest neighbours\n",
    "        class_pred[i] = np.argmax(np.bincount(labels[i,:].astype(int)))\n",
    "    return class_pred\n",
    "\n",
    "class_pred = KNN(x_train,class_train,x_test,5)\n",
    "plt.scatter(x_test[:,0],x_test[:,1],c=class_pred)\n",
    "plt.show()"
   ]
  },
  {
   "cell_type": "markdown",
   "metadata": {},
   "source": [
    "3\\. Compute the error rate on the training set and the test set for $K \\in \\{1,2, \\dotsc, 20\\}$. Display the classification result (see 1.) for the configuration with the lowest error rate."
   ]
  },
  {
   "cell_type": "markdown",
   "metadata": {},
   "source": [
    "**Answer:**"
   ]
  },
  {
   "cell_type": "code",
   "execution_count": 5,
   "metadata": {
    "ExecuteTime": {
     "end_time": "2023-10-16T11:17:36.686449500Z",
     "start_time": "2023-10-16T11:17:36.423380669Z"
    }
   },
   "outputs": [
    {
     "name": "stdout",
     "output_type": "stream",
     "text": [
      "Error rate for k = 1 : 0.065\n",
      "Error rate for k = 2 : 0.06\n",
      "Error rate for k = 3 : 0.045\n",
      "Error rate for k = 4 : 0.05\n",
      "Error rate for k = 5 : 0.06\n",
      "Error rate for k = 6 : 0.055\n",
      "Error rate for k = 7 : 0.07\n",
      "Error rate for k = 8 : 0.07\n",
      "Error rate for k = 9 : 0.075\n",
      "Error rate for k = 10 : 0.075\n",
      "Error rate for k = 11 : 0.09\n",
      "Error rate for k = 12 : 0.075\n",
      "Error rate for k = 13 : 0.08\n",
      "Error rate for k = 14 : 0.075\n",
      "Error rate for k = 15 : 0.075\n",
      "Error rate for k = 16 : 0.075\n",
      "Error rate for k = 17 : 0.08\n",
      "Error rate for k = 18 : 0.08\n",
      "Error rate for k = 19 : 0.08\n",
      "Error rate for k = 20 : 0.08\n"
     ]
    }
   ],
   "source": [
    "for k in range(1,21):\n",
    "    class_pred = KNN(x_train,class_train,x_test,k)\n",
    "    error_rate = np.sum(class_pred!=class_test)/N_test\n",
    "    print(\"Error rate for k =\", k, \":\", error_rate)"
   ]
  },
  {
   "cell_type": "markdown",
   "metadata": {},
   "source": [
    "4\\. Comment on your results. Which value of $K$ seems optimal ?\n"
   ]
  },
  {
   "cell_type": "markdown",
   "metadata": {},
   "source": [
    "**Answer:**"
   ]
  },
  {
   "cell_type": "markdown",
   "source": [
    "The value of $K$ that seems optimal here is $K=3$, for which we get the smallest error rate (0.045)."
   ],
   "metadata": {
    "collapsed": false
   }
  },
  {
   "cell_type": "markdown",
   "metadata": {},
   "source": [
    "5\\. Compare the results of you implementation with those of [`sklearn.neighbors.KNeighborsClassifier`](https://scikit-learn.org/stable/modules/generated/sklearn.neighbors.KNeighborsClassifier.html?highlight=kneighborsclassifier#sklearn.neighbors.KNeighborsClassifier). Compare the runtime of these two versions using the [`timeit`](https://docs.python.org/3/library/timeit.html) module (see session 1)."
   ]
  },
  {
   "cell_type": "markdown",
   "metadata": {},
   "source": [
    "**Answer:**"
   ]
  },
  {
   "cell_type": "code",
   "execution_count": 6,
   "metadata": {
    "ExecuteTime": {
     "end_time": "2023-10-16T11:17:36.879724100Z",
     "start_time": "2023-10-16T11:17:36.646557962Z"
    }
   },
   "outputs": [
    {
     "name": "stdout",
     "output_type": "stream",
     "text": [
      "Error rate for k = 1 : 0.065\n",
      "Error rate for k = 2 : 0.06\n",
      "Error rate for k = 3 : 0.045\n",
      "Error rate for k = 4 : 0.05\n",
      "Error rate for k = 5 : 0.06\n",
      "Error rate for k = 6 : 0.055\n",
      "Error rate for k = 7 : 0.07\n",
      "Error rate for k = 8 : 0.07\n",
      "Error rate for k = 9 : 0.075\n",
      "Error rate for k = 10 : 0.075\n",
      "Error rate for k = 11 : 0.09\n",
      "Error rate for k = 12 : 0.075\n",
      "Error rate for k = 13 : 0.08\n",
      "Error rate for k = 14 : 0.075\n",
      "Error rate for k = 15 : 0.075\n",
      "Error rate for k = 16 : 0.075\n",
      "Error rate for k = 17 : 0.08\n",
      "Error rate for k = 18 : 0.08\n",
      "Error rate for k = 19 : 0.08\n",
      "Error rate for k = 20 : 0.08\n"
     ]
    }
   ],
   "source": [
    "for k in range(1,21):\n",
    "    knn_classifier = sklearn.neighbors.KNeighborsClassifier(k)\n",
    "    knn_classifier.fit(x_train,class_train)\n",
    "    class_pred = knn_classifier.predict(x_test)\n",
    "    error_rate = np.sum(class_pred!=class_test)/N_test\n",
    "    print(\"Error rate for k =\", k, \":\", error_rate)"
   ]
  },
  {
   "cell_type": "markdown",
   "source": [
    "We have exactly the same results when using the algorithm from `scikit-learn`. Now let's compare the running time of both algorithms (for 100 iterations):"
   ],
   "metadata": {
    "collapsed": false
   }
  },
  {
   "cell_type": "code",
   "execution_count": 7,
   "outputs": [
    {
     "name": "stdout",
     "output_type": "stream",
     "text": [
      "Our KNN algorithm running time: 0.4511612559999776\n",
      "Scikit-learn KNN algorithm running time: 0.7283168290000503\n"
     ]
    }
   ],
   "source": [
    "my_knn_time = timeit.timeit(lambda: KNN(x_train,class_train,x_test,5),number=100)\n",
    "sklearn_knn_time = timeit.timeit(lambda: sklearn.neighbors.KNeighborsClassifier(5).fit(x_train,class_train).predict(x_test),number=100)\n",
    "print(\"Our KNN algorithm running time:\", my_knn_time)\n",
    "print(\"Scikit-learn KNN algorithm running time:\", sklearn_knn_time)"
   ],
   "metadata": {
    "collapsed": false,
    "ExecuteTime": {
     "end_time": "2023-10-16T11:17:38.081209098Z",
     "start_time": "2023-10-16T11:17:36.865773591Z"
    }
   }
  },
  {
   "cell_type": "markdown",
   "source": [
    "Quite surprisingly, our algorithm is faster than the one from `scikit-learn` (around 0.24s vs 69s for 100 iterations). This might be due to the fact that our dataset is small (only 2 features and 300 samples), and that the `scikit-learn` algorithm is more general."
   ],
   "metadata": {
    "collapsed": false
   }
  },
  {
   "cell_type": "markdown",
   "metadata": {},
   "source": [
    "### B. Application to a real dataset (Breast cancer Wisconsin).\n",
    "\n",
    "6\\. Apply the K-NN classifier to the real dataset `data/wdbc12.data.txt.` Further details about the data are provided in `data/wdbc12.names.txt`.\n",
    "\n",
    "> Hint: you can use the function [`train_test_split` from `sklearn.model_selection`](https://scikit-learn.org/stable/modules/generated/sklearn.model_selection.train_test_split.html) to split the dataset into a training and a test set."
   ]
  },
  {
   "cell_type": "markdown",
   "metadata": {},
   "source": [
    "**Answer:**"
   ]
  },
  {
   "cell_type": "code",
   "execution_count": 8,
   "metadata": {
    "ExecuteTime": {
     "end_time": "2023-10-16T11:17:38.175948476Z",
     "start_time": "2023-10-16T11:17:38.083221347Z"
    }
   },
   "outputs": [
    {
     "name": "stdout",
     "output_type": "stream",
     "text": [
      "Error rate for our KNN classifier: 0.06140350877192982\n",
      "Error rate for sklearn KNN classifier: 0.06140350877192982\n"
     ]
    }
   ],
   "source": [
    "# Load the dataset\n",
    "data = np.loadtxt('data/wdbc12.data.txt',delimiter=',')\n",
    "X = data[:,2:]\n",
    "y = data[:,1]\n",
    "X_train, X_test, y_train, y_test = sklearn.model_selection.train_test_split(X,y,test_size=0.2)\n",
    "\n",
    "#Apply the KNN classifier to the dataset with n_neighbours=5\n",
    "y_pred1 = KNN(X_train,y_train,X_test,5)\n",
    "error_rate = np.sum(y_pred1!=y_test)/y_test.shape[0]\n",
    "print(\"Error rate for our KNN classifier:\", error_rate)\n",
    "\n",
    "knn_classifier = sklearn.neighbors.KNeighborsClassifier(5)\n",
    "knn_classifier.fit(X_train,y_train)\n",
    "y_pred2 = knn_classifier.predict(X_test)\n",
    "error_rate = np.sum(y_pred2!=y_test)/y_test.shape[0]\n",
    "print(\"Error rate for sklearn KNN classifier:\", error_rate)"
   ]
  },
  {
   "cell_type": "markdown",
   "source": [
    "We have again exaclty the same results for both algorithms. Now let's compare the running time of both algorithms (for 100 iterations):"
   ],
   "metadata": {
    "collapsed": false
   }
  },
  {
   "cell_type": "code",
   "execution_count": 9,
   "outputs": [
    {
     "name": "stdout",
     "output_type": "stream",
     "text": [
      "Our KNN algorithm running time: 0.7997098700000151\n",
      "Scikit-learn KNN algorithm running time: 0.16184956200004308\n"
     ]
    }
   ],
   "source": [
    "my_knn_time = timeit.timeit(lambda: KNN(X_train,y_train,X_test,5),number=100)\n",
    "sklearn_knn_time = timeit.timeit(lambda: sklearn.neighbors.KNeighborsClassifier(5).fit(X_train,y_train).predict(X_test),number=100)\n",
    "print(\"Our KNN algorithm running time:\", my_knn_time)\n",
    "print(\"Scikit-learn KNN algorithm running time:\", sklearn_knn_time)"
   ],
   "metadata": {
    "collapsed": false,
    "ExecuteTime": {
     "end_time": "2023-10-16T11:17:39.166062488Z",
     "start_time": "2023-10-16T11:17:38.180396880Z"
    }
   }
  },
  {
   "cell_type": "markdown",
   "source": [
    "We see that for a larger, more complex dataset, the `scikit-learn` algorithm is faster than ours (around 0.36s vs 042s for 100 iterations), which is what we expected."
   ],
   "metadata": {
    "collapsed": false
   }
  },
  {
   "cell_type": "markdown",
   "metadata": {},
   "source": [
    "## <a name=\"ex2\">Exercise 2: Code acceleration with cython</a> [(&#8593;)](#content)\n",
    "\n",
    "Cython allows C code to be easily interfaced with Python. It can be useful to make your code faster for a small coding effort, in particular when using loops. A general approach to optimize your code is outlined in the [Scipy lecture notes, Section 2.4](https://scipy-lectures.org/advanced/optimizing/index.html). Complementary reading about interfacing Python with C can be found in [Section 2.8](https://scipy-lectures.org/advanced/interfacing_with_c/interfacing_with_c.html).\n",
    "\n",
    "1\\. Read carefully the [cython tutorial](http://docs.cython.org/en/latest/src/tutorial/cython_tutorial.html), which describes step by the step how the toy example reported below has been developed."
   ]
  },
  {
   "cell_type": "markdown",
   "metadata": {},
   "source": [
    "**Setup**: Compile the toy example provided in `example_cy/` by running, in the command line (anaconda prompt on windows)"
   ]
  },
  {
   "cell_type": "markdown",
   "metadata": {},
   "source": [
    "```bash\n",
    "cd example_cy && python setup.py build_ext --inplace\n",
    "```"
   ]
  },
  {
   "cell_type": "markdown",
   "metadata": {},
   "source": [
    "Note that the compilation process has been slightly automatised with the instructions reported in `example_cy/setup.py`. To test the module, run"
   ]
  },
  {
   "cell_type": "code",
   "execution_count": 10,
   "metadata": {
    "ExecuteTime": {
     "end_time": "2023-10-16T11:17:39.233422193Z",
     "start_time": "2023-10-16T11:17:39.165873276Z"
    }
   },
   "outputs": [],
   "source": [
    "# !cd example_cy && python setup.py build_ext --inplace"
   ]
  },
  {
   "cell_type": "code",
   "execution_count": 11,
   "metadata": {
    "ExecuteTime": {
     "end_time": "2023-10-16T11:17:39.250470402Z",
     "start_time": "2023-10-16T11:17:39.192287813Z"
    }
   },
   "outputs": [
    {
     "name": "stdout",
     "output_type": "stream",
     "text": [
      "Hello World\n"
     ]
    }
   ],
   "source": [
    "import example_cy.helloworld as toy\n",
    "\n",
    "toy.printhello()"
   ]
  },
  {
   "cell_type": "markdown",
   "metadata": {},
   "source": [
    "which should display\n",
    "```python\n",
    "Hello World\n",
    "```"
   ]
  },
  {
   "cell_type": "markdown",
   "metadata": {},
   "source": [
    "> Warning: \n",
    "> - do not forget to include an empty `__init__.py` file in the directory where your source code lives (`import` will fail if this is not the case).\n",
    "> - in case you have any setup issue, take a look at the `notes.md` file.\n",
    "> - if the C code and/or the executable do not seem to be regenerated by the build instructions, delete the C code and the executable first, and re-execute the compilation afterwards.\n",
    "> - do not hesitate to restart the Python kernel if necessary when the Cython executable has been re-generated."
   ]
  },
  {
   "cell_type": "markdown",
   "metadata": {},
   "source": [
    "2\\. Read the [Numpy/Cython tutorial](https://cython.readthedocs.io/en/latest/src/userguide/numpy_tutorial.html#numpy-tutorial), focussing on the paragraphs **Cython at a glance**, and **Your Cython environment** until **\"More generic code\"**. An example to compile a `.pyx` file depending on `numpy` is included in `example_np_cy/`."
   ]
  },
  {
   "cell_type": "markdown",
   "metadata": {},
   "source": [
    "> Remarks: \n",
    "> - the `annotate=True` flag in the `setup.py` allows an additional `.html` document to be generated (`<your_module_name>.html`), showing, for each line of the Cython code, the associated C instructions generated. Highlighted in yellow are the interactions with Python: the darker a region appears, the less efficient the generated C code is for this section. Work in priority on these! \n",
    "> - make sure all the previously generated files are deleted to allow the .html report to be generated;\n",
    "> - if you are working on your own machine and don't have a C/C++ compiler installed, read the notes provided in `notes.md`;\n",
    "> - use `cdef` for pure C functions (not exported to Python), `cpdef` should be favored for functions containing C instructions and later called from Python."
   ]
  },
  {
   "cell_type": "markdown",
   "metadata": {},
   "source": [
    "**Answer:**"
   ]
  },
  {
   "cell_type": "code",
   "execution_count": 12,
   "metadata": {
    "ExecuteTime": {
     "end_time": "2023-10-16T11:17:39.382928606Z",
     "start_time": "2023-10-16T11:17:39.217890305Z"
    }
   },
   "outputs": [
    {
     "ename": "ModuleNotFoundError",
     "evalue": "No module named 'example_np_cy'",
     "output_type": "error",
     "traceback": [
      "\u001B[0;31m---------------------------------------------------------------------------\u001B[0m",
      "\u001B[0;31mModuleNotFoundError\u001B[0m                       Traceback (most recent call last)",
      "\u001B[0;32m/tmp/ipykernel_3900/4023804985.py\u001B[0m in \u001B[0;36m<module>\u001B[0;34m\u001B[0m\n\u001B[0;32m----> 1\u001B[0;31m \u001B[0;32mimport\u001B[0m \u001B[0mexample_np_cy\u001B[0m\u001B[0;34m.\u001B[0m\u001B[0mcompute_cy\u001B[0m \u001B[0;32mas\u001B[0m \u001B[0mcc\u001B[0m\u001B[0;34m\u001B[0m\u001B[0;34m\u001B[0m\u001B[0m\n\u001B[0m\u001B[1;32m      2\u001B[0m \u001B[0;34m\u001B[0m\u001B[0m\n\u001B[1;32m      3\u001B[0m \u001B[0mresult\u001B[0m \u001B[0;34m=\u001B[0m \u001B[0mcc\u001B[0m\u001B[0;34m.\u001B[0m\u001B[0mcompute\u001B[0m\u001B[0;34m(\u001B[0m\u001B[0mnp\u001B[0m\u001B[0;34m.\u001B[0m\u001B[0marray\u001B[0m\u001B[0;34m(\u001B[0m\u001B[0;34m[\u001B[0m\u001B[0;34m[\u001B[0m\u001B[0;36m1\u001B[0m\u001B[0;34m,\u001B[0m \u001B[0;36m2\u001B[0m\u001B[0;34m,\u001B[0m \u001B[0;36m3\u001B[0m\u001B[0;34m]\u001B[0m\u001B[0;34m,\u001B[0m \u001B[0;34m[\u001B[0m\u001B[0;36m4\u001B[0m\u001B[0;34m,\u001B[0m \u001B[0;36m5\u001B[0m\u001B[0;34m,\u001B[0m \u001B[0;36m6\u001B[0m\u001B[0;34m]\u001B[0m\u001B[0;34m]\u001B[0m\u001B[0;34m,\u001B[0m\u001B[0mdtype\u001B[0m\u001B[0;34m=\u001B[0m\u001B[0;34m'int32'\u001B[0m\u001B[0;34m)\u001B[0m\u001B[0;34m,\u001B[0m\u001B[0mnp\u001B[0m\u001B[0;34m.\u001B[0m\u001B[0marray\u001B[0m\u001B[0;34m(\u001B[0m\u001B[0;34m[\u001B[0m\u001B[0;34m[\u001B[0m\u001B[0;36m1\u001B[0m\u001B[0;34m,\u001B[0m \u001B[0;36m2\u001B[0m\u001B[0;34m,\u001B[0m \u001B[0;36m3\u001B[0m\u001B[0;34m]\u001B[0m\u001B[0;34m,\u001B[0m \u001B[0;34m[\u001B[0m\u001B[0;36m4\u001B[0m\u001B[0;34m,\u001B[0m \u001B[0;36m5\u001B[0m\u001B[0;34m,\u001B[0m \u001B[0;36m6\u001B[0m\u001B[0;34m]\u001B[0m\u001B[0;34m]\u001B[0m\u001B[0;34m,\u001B[0m\u001B[0mdtype\u001B[0m\u001B[0;34m=\u001B[0m\u001B[0;34m'int32'\u001B[0m\u001B[0;34m)\u001B[0m\u001B[0;34m,\u001B[0m\u001B[0;36m1\u001B[0m\u001B[0;34m,\u001B[0m\u001B[0;36m2\u001B[0m\u001B[0;34m,\u001B[0m\u001B[0;36m3\u001B[0m\u001B[0;34m)\u001B[0m\u001B[0;34m\u001B[0m\u001B[0;34m\u001B[0m\u001B[0m\n\u001B[1;32m      4\u001B[0m \u001B[0mprint\u001B[0m\u001B[0;34m(\u001B[0m\u001B[0mresult\u001B[0m\u001B[0;34m)\u001B[0m\u001B[0;34m\u001B[0m\u001B[0;34m\u001B[0m\u001B[0m\n",
      "\u001B[0;31mModuleNotFoundError\u001B[0m: No module named 'example_np_cy'"
     ]
    }
   ],
   "source": [
    "import example_np_cy.compute_cy as cc\n",
    "\n",
    "result = cc.compute(np.array([[1, 2, 3], [4, 5, 6]],dtype='int32'),np.array([[1, 2, 3], [4, 5, 6]],dtype='int32'),1,2,3)\n",
    "print(result)"
   ]
  },
  {
   "cell_type": "markdown",
   "metadata": {},
   "source": [
    "3\\. Use Cython to implement a faster version of the numpy K-NN classifier implemented in [Exercise 1](#ex1). To do so, apply step-by-step the techniques introduced in the [Numpy/Cython tutorial](https://cython.readthedocs.io/en/latest/src/userguide/numpy_tutorial.html#numpy-tutorial) (*i.e.*, compile and time your code after each step to report the evolution, keeping track of the different versions of the cython function).\n",
    "\n",
    "> Hint: if you keep numpy arrays, make sure you use memory views (see numpy/cython tutorial) to access the elements within it. Be extremely careful with the type of the input arrays (you may need to recast the format of the input elements before entering the function. The `numpy.asarray` function can prove useful).\n",
    "\n",
    "> **Detailed guidelines**: a few notes and *caveat* to help you re-writing your code in cython:\n",
    "> - try to reduce the number of calls to numpy instructions as much as possible;\n",
    "> - **you do not have to optimize everything**. For the KNN function above, most of the time is spent in computing euclidean distances: you can thus focus on optimizing tihs operations by explicitly writing a for loop, which will ensure a minimal interaction with numpy when generating the associated C code at compilation. Calls to other numpy functions can be kept as-is;\n",
    "> - if you need to create an array within the cython function, used np.zeros (**do NOT use python lists**), and use a memory view to access its content;\n",
    "> - specify the type for all variables and numpy arrays. Pay attention to the type of the input arrays passed to the Cython function;\n",
    "> - whenever an array is returned, use memory views and index(es) to efficiently access its content;\n",
    "> - some numpy operators (e.g., broadcasting mechanism) do not work with memory views. In this case, you can directly write for loop(s) to encode the operation of interest (the loops will be optimized out at compile time);\n",
    "> - only use at the final development stage the following cython optimization (not before, as they can crash the program without any help):\n",
    ">\n",
    ">```python\n",
    ">@cython.boundscheck(False)\n",
    ">@cython.wraparound(False)\n",
    ">```"
   ]
  },
  {
   "cell_type": "markdown",
   "metadata": {},
   "source": [
    "**Answer:**"
   ]
  },
  {
   "cell_type": "markdown",
   "metadata": {},
   "source": [
    "4\\. Compare the runtime of the two algorithms (using `timeit.timeit`), and conclude about the interest of using cython in this case."
   ]
  },
  {
   "cell_type": "markdown",
   "metadata": {},
   "source": [
    "**Answer:**"
   ]
  },
  {
   "cell_type": "code",
   "execution_count": 13,
   "metadata": {
    "ExecuteTime": {
     "end_time": "2023-10-16T11:18:00.778333691Z",
     "start_time": "2023-10-16T11:17:59.416163796Z"
    }
   },
   "outputs": [
    {
     "name": "stdout",
     "output_type": "stream",
     "text": [
      "Python KNN algorithm running time: 0.7510911150000084\n",
      "Cython KNN algorithm running time: 0.5579547649999768\n"
     ]
    }
   ],
   "source": [
    "import knn_np_cy.knn_cy as knn_cy\n",
    "\n",
    "cy_knn_time = timeit.timeit(lambda: knn_cy.KNN_cy(x_train.astype(np.float64),class_train.astype(np.float64),x_test.astype(np.float64),5),number=100)\n",
    "py_knn_time = timeit.timeit(lambda: KNN(x_train,class_train,x_test,5),number=100)\n",
    "print(\"Python KNN algorithm running time:\", py_knn_time)\n",
    "print(\"Cython KNN algorithm running time:\", cy_knn_time)"
   ]
  },
  {
   "cell_type": "markdown",
   "metadata": {},
   "source": [
    "## <a name=\"ex3\">Exercise 3: Code acceleration with numba</a> [(&#8593;)](#content)\n",
    "\n",
    "`numba` is a just-in-time (JIT) compiler which translates Python codes into efficient machine code at runtime. A significant acceleration can be obtained by adding a few simple decorators to a standard Python function, up to a few restrictions detailed [here](http://numba.pydata.org/numba-doc/latest/user/performance-tips.html).\n",
    "\n",
    "If you have written most of the KNN classifier of exercise 1 with numpy, there is little to no chance that you will get an acceleration with numba (justifying the use of cython in this case). An interesting acceleration factor can however be obtained for the computation of the total variation investigated in session 2."
   ]
  },
  {
   "cell_type": "markdown",
   "metadata": {},
   "source": [
    "1\\. Take a look at the [numba 5 min tour](http://numba.pydata.org/numba-doc/latest/user/5minguide.html), and accelerate the total variation code from session 2 with the `@jit` decorator. You may have to rewrite small portions of your code to get the expected acceleration (see [performance tips](http://numba.pydata.org/numba-doc/latest/user/performance-tips.html))."
   ]
  },
  {
   "cell_type": "markdown",
   "metadata": {},
   "source": [
    "**Answer:**"
   ]
  },
  {
   "cell_type": "code",
   "execution_count": null,
   "outputs": [],
   "source": [
    "import numba as nb\n",
    "import timeit"
   ],
   "metadata": {
    "collapsed": false,
    "ExecuteTime": {
     "start_time": "2023-10-16T11:17:39.427006648Z"
    }
   }
  },
  {
   "cell_type": "code",
   "execution_count": null,
   "outputs": [],
   "source": [
    "#Basic function from Lab2\n",
    "def tv(X):\n",
    "    assert X.ndim < 3, \"Error: the input array has more than 2 dimensions\"\n",
    "    X_h = np.c_[np.diff(X, axis=1), np.zeros(X.shape[0])] #Horizontal differences\n",
    "    X_v = np.r_[np.diff(X, axis=0), np.zeros((1, X.shape[1]))] #Vertical differences\n",
    "    tv = np.sum(np.sqrt(X_h**2 + X_v**2))\n",
    "    return tv"
   ],
   "metadata": {
    "collapsed": false,
    "ExecuteTime": {
     "end_time": "2023-10-16T11:17:39.462897110Z",
     "start_time": "2023-10-16T11:17:39.427322297Z"
    }
   }
  },
  {
   "cell_type": "code",
   "execution_count": null,
   "outputs": [],
   "source": [
    "#Function with the @jit decorator (we replaced the np.diff function with axis argument since it is not supported by numba)\n",
    "@nb.jit(nopython=True)\n",
    "def tv_jit(X):\n",
    "    assert X.ndim < 3, \"Error: the input array has more than 2 dimensions\"\n",
    "    X_h = X[:, 1:] - X[:, :-1] \n",
    "    X_h = np.hstack((X_h, np.zeros((X.shape[0], 1)))) # Horizontal differences\n",
    "    X_v = X[1:, :] - X[:-1, :]\n",
    "    X_v = np.vstack((X_v, np.zeros((1, X.shape[1]))))  # Vertical differences\n",
    "    tv = np.sum(np.sqrt(X_h**2 + X_v**2))\n",
    "    return tv"
   ],
   "metadata": {
    "collapsed": false,
    "ExecuteTime": {
     "start_time": "2023-10-16T11:17:39.427629342Z"
    }
   }
  },
  {
   "cell_type": "markdown",
   "metadata": {},
   "source": [
    "2\\. Compare the runtime of the your numpy implementation and the `numba`-accelerated version (using `timeit.timeit`). \n",
    "> **Warning**: first run the numba version once to trigger the compilation, and then time it as usual. This is needed to avoid including the JIT compilation step in the runtime."
   ]
  },
  {
   "cell_type": "markdown",
   "source": [
    "**Answer:**"
   ],
   "metadata": {
    "collapsed": false
   }
  },
  {
   "cell_type": "code",
   "execution_count": null,
   "outputs": [],
   "source": [
    "#Trigger the compilation\n",
    "X = np.random.randn(1000,1000)\n",
    "tv_jit(X)"
   ],
   "metadata": {
    "collapsed": false,
    "ExecuteTime": {
     "start_time": "2023-10-16T11:17:39.427863758Z"
    }
   }
  },
  {
   "cell_type": "code",
   "execution_count": null,
   "outputs": [],
   "source": [
    "X = np.random.randn(1000,1000)\n",
    "tv_normal = timeit.timeit(lambda: tv(X),number=100)\n",
    "tv_numba = timeit.timeit(lambda: tv_jit(X),number=100)\n",
    "print(\"Running time of the function without the @jit decorator:\", tv_normal)\n",
    "print(\"Running time of the function with the @jit decorator:\", tv_numba)"
   ],
   "metadata": {
    "collapsed": false,
    "ExecuteTime": {
     "start_time": "2023-10-16T11:17:39.428076834Z"
    }
   }
  },
  {
   "cell_type": "markdown",
   "source": [
    "We see that the `numba`-accelerated version is approximately 1 second faster than the numpy version, which represent a significant acceleration (30% faster), for little to no adjustements."
   ],
   "metadata": {
    "collapsed": false
   }
  }
 ],
 "metadata": {
  "file_extension": ".py",
  "kernelspec": {
   "display_name": "Python 3.8.10 64-bit",
   "language": "python",
   "name": "python3"
  },
  "language_info": {
   "codemirror_mode": {
    "name": "ipython",
    "version": 3
   },
   "file_extension": ".py",
   "mimetype": "text/x-python",
   "name": "python",
   "nbconvert_exporter": "python",
   "pygments_lexer": "ipython3",
   "version": "3.8.10"
  },
  "mimetype": "text/x-python",
  "name": "python",
  "npconvert_exporter": "python",
  "pygments_lexer": "ipython3",
  "version": 3,
  "vscode": {
   "interpreter": {
    "hash": "916dbcbb3f70747c44a77c7bcd40155683ae19c65e1c03b4aa3499c5328201f1"
   }
  }
 },
 "nbformat": 4,
 "nbformat_minor": 4
}
